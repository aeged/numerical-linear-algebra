{
  "cells": [
    {
      "cell_type": "markdown",
      "metadata": {
        "id": "vcuZA_ec0G5W"
      },
      "source": [
        "You can read an overview of this Numerical Linear Algebra course in [this blog post](http://www.fast.ai/2017/07/17/num-lin-alg/).  The course was originally taught in the [University of San Francisco MS in Analytics](https://www.usfca.edu/arts-sciences/graduate-programs/analytics) graduate program.  Course lecture videos are [available on YouTube](https://www.youtube.com/playlist?list=PLtmWHNX-gukIc92m1K0P6bIOnZb-mg0hY) (note that the notebook numbers and video numbers do not line up, since some notebooks took longer than 1 video to cover).\n",
        "\n",
        "You can ask questions about the course on [our fast.ai forums](http://forums.fast.ai/c/lin-alg)."
      ]
    },
    {
      "cell_type": "markdown",
      "metadata": {
        "id": "jqT4r7bz0G5X"
      },
      "source": [
        "# 1. Why are we here?"
      ]
    },
    {
      "cell_type": "markdown",
      "metadata": {
        "id": "Y_D9Wi1l0G5X"
      },
      "source": [
        "**Note: Future lessons have a lot more code than this one**"
      ]
    },
    {
      "cell_type": "markdown",
      "metadata": {
        "id": "iBKuxFVJ0G5X"
      },
      "source": [
        "## Why study Numerical Linear Algebra?"
      ]
    },
    {
      "cell_type": "markdown",
      "metadata": {
        "id": "umc4R7O70G5X"
      },
      "source": [
        "**Key Question of this course**: How can we do matrix computations with acceptable speed and acceptable accuracy?"
      ]
    },
    {
      "cell_type": "markdown",
      "metadata": {
        "id": "zDRYV_pa0G5Y"
      },
      "source": [
        "A list of the [Top 10 Algorithms](http://www.cs.fsu.edu/~lacher/courses/COT4401/notes/cise_v2_i1/index.html) of science and engineering during the 20th century includes: the **matrix decompositions** approach to linear algebra. It also includes the QR algorithm, which we'll cover, and Krylov iterative methods which we'll see an example of. (See here for [another take](https://nickhigham.wordpress.com/2016/03/29/the-top-10-algorithms-in-applied-mathematics/))\n",
        "\n",
        "<img src=\"https://github.com/aeged/numerical-linear-algebra/blob/master/nbs/images/top10.png?raw=1\" alt=\"\" style=\"width: 50%\"/>\n",
        "(source: [Top 10 Algorithms](http://www.cs.fsu.edu/~lacher/courses/COT4401/notes/cise_v2_i1/guest.pdf))"
      ]
    },
    {
      "cell_type": "markdown",
      "metadata": {
        "id": "L-xgcavQ0G5Y"
      },
      "source": [
        "There are 4 things to keep in mind when choosing or designing an algorithm for matrix computations:\n",
        "- Memory Use\n",
        "- Speed\n",
        "- Accuracy\n",
        "- Scalability/Parallelization\n",
        "\n",
        "Often there will be trade-offs between these categories."
      ]
    },
    {
      "cell_type": "markdown",
      "metadata": {
        "id": "iinuVd6F0G5Y"
      },
      "source": [
        "### Motivation"
      ]
    },
    {
      "cell_type": "markdown",
      "metadata": {
        "id": "ZVCbyRSK0G5Y"
      },
      "source": [
        "Matrices are everywhere-- anything that can be put in an Excel spreadsheet is a matrix, and language and pictures can be represented as matrices as well.  Knowing what options there are for matrix algorithms, and how to navigate compromises, can make enormous differences to your solutions. For instance, an approximate matrix computation can often be thousands of times faster than an exact one.\n",
        "\n",
        "It's not just about knowing the contents of existing libraries, but knowing how they work too. That's because often you can make variations to an algorithm that aren't supported by your library, giving you the performance or accuracy that you need. In addition, this field is moving very quickly at the moment, particularly in areas related to **deep learning**, **recommendation systems**, **approximate algorithms**, and **graph analytics**, so you'll often find there's recent results that could make big differences in your project, but aren't in your library.\n",
        "\n",
        "Knowing how the algorithms really work helps to both debug and accelerate your solution."
      ]
    },
    {
      "cell_type": "markdown",
      "metadata": {
        "id": "nnUEE8U20G5Y"
      },
      "source": [
        "## Matrix Computations"
      ]
    },
    {
      "cell_type": "markdown",
      "metadata": {
        "id": "JihmEYzL0G5Z"
      },
      "source": [
        "There are two key types of matrix computation, which get combined in many different ways. These are:\n",
        "- Matrix and tensor products\n",
        "- Matrix decompositions\n",
        "\n",
        "So basically we're going to be combining matrices, and pulling them apart again!"
      ]
    },
    {
      "cell_type": "markdown",
      "metadata": {
        "id": "ItEFdUnl0G5Z"
      },
      "source": [
        "### Matrix and Tensor Products"
      ]
    },
    {
      "cell_type": "markdown",
      "metadata": {
        "id": "ZFc2h8nE0G5Z"
      },
      "source": [
        "#### Matrix-Vector Products:"
      ]
    },
    {
      "cell_type": "markdown",
      "metadata": {
        "id": "8EhzE2SI0G5Z"
      },
      "source": [
        "The matrix below gives the probabilities of moving from 1 health state to another in 1 year.  If the current health states for a group are:\n",
        "- 85% asymptomatic\n",
        "- 10% symptomatic\n",
        "- 5% AIDS\n",
        "- 0% death\n",
        "\n",
        "what will be the % in each health state in 1 year?"
      ]
    },
    {
      "cell_type": "markdown",
      "metadata": {
        "id": "U210f7ue0G5Z"
      },
      "source": [
        "<img src=\"https://github.com/aeged/numerical-linear-algebra/blob/master/nbs/images/markov_health.jpg?raw=1\" alt=\"floating point\" style=\"width: 80%\"/>(Source: [Concepts of Markov Chains](https://www.youtube.com/watch?v=0Il-y_WLTo4))"
      ]
    },
    {
      "cell_type": "markdown",
      "metadata": {
        "heading_collapsed": true,
        "id": "C-RQwpVz0G5Z"
      },
      "source": [
        "#### Answer"
      ]
    },
    {
      "cell_type": "code",
      "execution_count": 1,
      "metadata": {
        "collapsed": true,
        "hidden": true,
        "id": "f2a_mp6f0G5Z"
      },
      "outputs": [],
      "source": [
        "import numpy as np"
      ]
    },
    {
      "cell_type": "markdown",
      "source": [
        "Notes:\n",
        "\n",
        "* Rows are starting states (each row sums to 1)\n",
        "* Columns are ending states\n",
        "\n",
        "HIV Asym | HIV Sym\n",
        "\n",
        "For example, row 1 reads like this:\n",
        "\n",
        "| | HIV Asym | HIV Sym | AIDS | Death |\n",
        "|:---|---:|---:|---:|---:|\n",
        "| HIV Asym | 0.90 | 0.07 | 0.02 | 0.01 |\n",
        "| HIV Sym | 0 | 0.93 | 0.05 | 0.02 |\n",
        "| AIDS | 0 | 0 | 0.85 | 0.15 |\n",
        "| Death | 0 | 0 | 0 | 1.00 |\n",
        "\n",
        "which says that the edge between HIV Asym and itself is weighted as 0.90, or in human terms there's a 90% chance an individual is HIV asymptotic at time t, that they will continue to be HIV asymptotic at time t+1\n",
        "\n",
        "Notice, if there is no edge between nodes it's encoded as a weight of 0\n",
        "\n"
      ],
      "metadata": {
        "id": "vzacGUCy0VcL"
      }
    },
    {
      "cell_type": "code",
      "source": [],
      "metadata": {
        "id": "6vTnNlKq9SV9"
      },
      "execution_count": null,
      "outputs": []
    },
    {
      "cell_type": "markdown",
      "source": [
        "Step 1: model the markov chain as a linear combination, and thus a matrix multiplication\n",
        "\n",
        "$$\n",
        "\\begin{aligned}\n",
        "\\begin{bmatrix}v^{asym}_{t+1},v^{sym}_{t+1},v^{AIDS}_{t+1},v^{Death}_{t+1}\\end{bmatrix}\n",
        "&=\n",
        "\\begin{bmatrix}v^{asym}_t,v^{sym}_t,v^{AIDS}_t,v^{Death}_t\\end{bmatrix}\n",
        "\\times\n",
        "\\begin{bmatrix}\n",
        "p^{asym \\rightarrow asym}&p^{asym \\rightarrow sym}&p^{asym \\rightarrow AIDS}&p^{asym \\rightarrow death}\\\\\n",
        "p^{sym \\rightarrow asym}&p^{sym \\rightarrow sym}&p^{sym \\rightarrow AIDS}&p^{sym \\rightarrow death}\\\\\n",
        "p^{AIDS \\rightarrow asym}&p^{AIDS \\rightarrow sym}&p^{AIDS \\rightarrow AIDS}&p^{AIDS \\rightarrow death}\\\\\n",
        "p^{death \\rightarrow asym}&p^{death \\rightarrow sym}&p^{death \\rightarrow AIDS}&p^{death \\rightarrow death}\\\\\n",
        "\\end{bmatrix}\n",
        "\\\\\n",
        "&=\n",
        "v^{asym}_t \\begin{bmatrix} p^{asym \\rightarrow asym}\\\\p^{sym \\rightarrow asym}\\\\p^{AIDS \\rightarrow asym}\\\\p^{death \\rightarrow asym} \\end{bmatrix}\n",
        "+ v^{sym}_t \\begin{bmatrix} p^{asym \\rightarrow sym}\\\\p^{sym \\rightarrow sym}\\\\p^{AIDS \\rightarrow sym}\\\\p^{death \\rightarrow sym} \\end{bmatrix}\n",
        "+ v^{AIDS}_t \\begin{bmatrix} p^{asym \\rightarrow AIDS}\\\\p^{sym \\rightarrow AIDS}\\\\p^{AIDS \\rightarrow AIDS}\\\\p^{death \\rightarrow AIDS} \\end{bmatrix}\n",
        "+ v^{death}_t \\begin{bmatrix} p^{asym \\rightarrow death}\\\\p^{sym \\rightarrow death}\\\\p^{AIDS \\rightarrow death}\\\\p^{death \\rightarrow death} \\end{bmatrix}\n",
        "\\end{aligned}\n",
        "$$\n",
        "\n",
        "here' the matrices that can model these. We multiply the current population percentages at time `t` by their transition weights and get the new values at state `t+1`\n",
        "\n",
        "Notice the shapes `1x4 * 4x4 = 1x4`\n",
        "\n",
        "Since a vector by matrix multiplication is the same as a linear combination of the matrix's rows, it becomes clear that we are multiplying the value of the current state for each category by the transition weights for each\n",
        "\n",
        "$$\n",
        "\\begin{aligned}\n",
        "v^{asym}_{t+1} &=\n",
        "v^{asym}_{t} \\cdot p^{asym \\rightarrow asym}\n",
        "+ v^{sym}_{t} \\cdot p^{sym \\rightarrow asym}\n",
        "+ v^{AIDS}_{t} \\cdot p^{AIDS \\rightarrow asym}\n",
        "+ v^{death}_{t} \\cdot p^{death \\rightarrow asym}\\\\\n",
        "&=0.85 \\cdot 0.90 + 0.10 \\cdot 0 + 0.05\\cdot 0 + 0.00 \\cdot 0 \\\\\n",
        "&=0.765\n",
        "\\end{aligned}\n",
        "$$\n",
        "\n",
        "Therefore, 76.5% of people at state t+1 are HIV Asymptotic"
      ],
      "metadata": {
        "id": "rVAvgJLM7xbJ"
      }
    },
    {
      "cell_type": "code",
      "execution_count": 32,
      "metadata": {
        "hidden": true,
        "colab": {
          "base_uri": "https://localhost:8080/"
        },
        "id": "ACfTeJhG0G5Z",
        "outputId": "a1bb2159-72e0-4e7f-ec4b-b52057101565"
      },
      "outputs": [
        {
          "output_type": "stream",
          "name": "stdout",
          "text": [
            "[[0.9  0.07 0.02 0.01]\n",
            " [0.   0.93 0.05 0.02]\n",
            " [0.   0.   0.85 0.15]\n",
            " [0.   0.   0.   1.  ]]\n",
            "[[0.85 0.1  0.05 0.  ]]\n"
          ]
        }
      ],
      "source": [
        "#Exercise: Use Numpy to compute the answer to the above\n",
        "\"\"\"\n",
        "answer=\n",
        "array([[ 0.765 ],\n",
        "       [ 0.1525],\n",
        "       [ 0.0645],\n",
        "       [ 0.018 ]])\n",
        "\"\"\"\n",
        "weights = np.array([[0.9, 0.07, 0.02, 0.01],[0,0.93,0.05,0.02],[0,0,0.85,0.15],[0,0,0,1.00]])\n",
        "print(weights)\n",
        "\n",
        "\"\"\"\n",
        "85% asymptomatic\n",
        "10% symptomatic\n",
        "5% AIDS\n",
        "0% death\n",
        "\"\"\"\n",
        "states = []\n",
        "states.append(np.array([0.85,0.10,0.05,0.00]).reshape(1,4))\n",
        "print(states[0])\n",
        "\n"
      ]
    },
    {
      "cell_type": "code",
      "source": [
        "states[0].reshape(1,4).transpose(-1, -2)"
      ],
      "metadata": {
        "colab": {
          "base_uri": "https://localhost:8080/"
        },
        "id": "eyYwImCEHzu5",
        "outputId": "c3018b1d-e8c5-4f15-d2a7-1422a1ec3aeb"
      },
      "execution_count": 33,
      "outputs": [
        {
          "output_type": "execute_result",
          "data": {
            "text/plain": [
              "array([[0.85],\n",
              "       [0.1 ],\n",
              "       [0.05],\n",
              "       [0.  ]])"
            ]
          },
          "metadata": {},
          "execution_count": 33
        }
      ]
    },
    {
      "cell_type": "code",
      "source": [
        "states.append(\n",
        "    states[0]@weights\n",
        ")\n",
        "print(states[-1])\n"
      ],
      "metadata": {
        "colab": {
          "base_uri": "https://localhost:8080/"
        },
        "id": "3qydNAZrHzLz",
        "outputId": "004de063-7ac0-405a-c886-ece97df96e1b"
      },
      "execution_count": 46,
      "outputs": [
        {
          "output_type": "stream",
          "name": "stdout",
          "text": [
            "[[0.765  0.1525 0.0645 0.018 ]]\n"
          ]
        }
      ]
    },
    {
      "cell_type": "markdown",
      "source": [
        "For fun, lets see how this plays out for 10 rounds"
      ],
      "metadata": {
        "id": "FUTI3w1WJz7Y"
      }
    },
    {
      "cell_type": "code",
      "source": [
        "from tabulate import tabulate\n",
        "\n",
        "\n",
        "def infection_game(init_state: np.array, num_iterations: int) -> np.array:\n",
        "  \"\"\"returns the states of the game\"\"\"\n",
        "  assert init_state.shape == (1,4)\n",
        "  states = [init_state]\n",
        "  weights = np.array([[0.9, 0.07, 0.02, 0.01],[0,0.93,0.05,0.02],[0,0,0.85,0.15],[0,0,0,1.00]])\n",
        "  for i in range(num_iterations):\n",
        "    states.append(states[i]@weights)\n",
        "    print(f'iteration {i+1}:\\n{tabulate(states[-1].T, tablefmt=\"fancy_grid\")}')\n",
        "  return np.vstack(states)\n",
        "states = infection_game(np.array([0.85,0.10,0.05,0.00]).reshape(1,4), 100)"
      ],
      "metadata": {
        "colab": {
          "base_uri": "https://localhost:8080/"
        },
        "id": "RJ9AZOanJzLD",
        "outputId": "01b319e3-d4db-4923-a812-54207b8374b6"
      },
      "execution_count": 79,
      "outputs": [
        {
          "output_type": "stream",
          "name": "stdout",
          "text": [
            "iteration 1:\n",
            "╒════════╕\n",
            "│ 0.765  │\n",
            "├────────┤\n",
            "│ 0.1525 │\n",
            "├────────┤\n",
            "│ 0.0645 │\n",
            "├────────┤\n",
            "│ 0.018  │\n",
            "╘════════╛\n",
            "iteration 2:\n",
            "╒══════════╕\n",
            "│ 0.6885   │\n",
            "├──────────┤\n",
            "│ 0.195375 │\n",
            "├──────────┤\n",
            "│ 0.07775  │\n",
            "├──────────┤\n",
            "│ 0.038375 │\n",
            "╘══════════╛\n",
            "iteration 3:\n",
            "╒═══════════╕\n",
            "│ 0.61965   │\n",
            "├───────────┤\n",
            "│ 0.229894  │\n",
            "├───────────┤\n",
            "│ 0.0896263 │\n",
            "├───────────┤\n",
            "│ 0.06083   │\n",
            "╘═══════════╛\n",
            "iteration 4:\n",
            "╒═══════════╕\n",
            "│ 0.557685  │\n",
            "├───────────┤\n",
            "│ 0.257177  │\n",
            "├───────────┤\n",
            "│ 0.10007   │\n",
            "├───────────┤\n",
            "│ 0.0850683 │\n",
            "╘═══════════╛\n",
            "iteration 5:\n",
            "╒══════════╕\n",
            "│ 0.501917 │\n",
            "├──────────┤\n",
            "│ 0.278212 │\n",
            "├──────────┤\n",
            "│ 0.109072 │\n",
            "├──────────┤\n",
            "│ 0.110799 │\n",
            "╘══════════╛\n",
            "iteration 6:\n",
            "╒══════════╕\n",
            "│ 0.451725 │\n",
            "├──────────┤\n",
            "│ 0.293872 │\n",
            "├──────────┤\n",
            "│ 0.11666  │\n",
            "├──────────┤\n",
            "│ 0.137743 │\n",
            "╘══════════╛\n",
            "iteration 7:\n",
            "╒══════════╕\n",
            "│ 0.406552 │\n",
            "├──────────┤\n",
            "│ 0.304921 │\n",
            "├──────────┤\n",
            "│ 0.122889 │\n",
            "├──────────┤\n",
            "│ 0.165637 │\n",
            "╘══════════╛\n",
            "iteration 8:\n",
            "╒══════════╕\n",
            "│ 0.365897 │\n",
            "├──────────┤\n",
            "│ 0.312035 │\n",
            "├──────────┤\n",
            "│ 0.127833 │\n",
            "├──────────┤\n",
            "│ 0.194234 │\n",
            "╘══════════╛\n",
            "iteration 9:\n",
            "╒══════════╕\n",
            "│ 0.329307 │\n",
            "├──────────┤\n",
            "│ 0.315806 │\n",
            "├──────────┤\n",
            "│ 0.131578 │\n",
            "├──────────┤\n",
            "│ 0.223309 │\n",
            "╘══════════╛\n",
            "iteration 10:\n",
            "╒══════════╕\n",
            "│ 0.296377 │\n",
            "├──────────┤\n",
            "│ 0.316751 │\n",
            "├──────────┤\n",
            "│ 0.134218 │\n",
            "├──────────┤\n",
            "│ 0.252655 │\n",
            "╘══════════╛\n",
            "iteration 11:\n",
            "╒══════════╕\n",
            "│ 0.266739 │\n",
            "├──────────┤\n",
            "│ 0.315325 │\n",
            "├──────────┤\n",
            "│ 0.13585  │\n",
            "├──────────┤\n",
            "│ 0.282086 │\n",
            "╘══════════╛\n",
            "iteration 12:\n",
            "╒══════════╕\n",
            "│ 0.240065 │\n",
            "├──────────┤\n",
            "│ 0.311924 │\n",
            "├──────────┤\n",
            "│ 0.136573 │\n",
            "├──────────┤\n",
            "│ 0.311438 │\n",
            "╘══════════╛\n",
            "iteration 13:\n",
            "╒══════════╕\n",
            "│ 0.216059 │\n",
            "├──────────┤\n",
            "│ 0.306894 │\n",
            "├──────────┤\n",
            "│ 0.136485 │\n",
            "├──────────┤\n",
            "│ 0.340563 │\n",
            "╘══════════╛\n",
            "iteration 14:\n",
            "╒══════════╕\n",
            "│ 0.194453 │\n",
            "├──────────┤\n",
            "│ 0.300535 │\n",
            "├──────────┤\n",
            "│ 0.135678 │\n",
            "├──────────┤\n",
            "│ 0.369334 │\n",
            "╘══════════╛\n",
            "iteration 15:\n",
            "╒══════════╕\n",
            "│ 0.175007 │\n",
            "├──────────┤\n",
            "│ 0.293109 │\n",
            "├──────────┤\n",
            "│ 0.134242 │\n",
            "├──────────┤\n",
            "│ 0.397641 │\n",
            "╘══════════╛\n",
            "iteration 16:\n",
            "╒══════════╕\n",
            "│ 0.157507 │\n",
            "├──────────┤\n",
            "│ 0.284842 │\n",
            "├──────────┤\n",
            "│ 0.132261 │\n",
            "├──────────┤\n",
            "│ 0.42539  │\n",
            "╘══════════╛\n",
            "iteration 17:\n",
            "╒══════════╕\n",
            "│ 0.141756 │\n",
            "├──────────┤\n",
            "│ 0.275929 │\n",
            "├──────────┤\n",
            "│ 0.129814 │\n",
            "├──────────┤\n",
            "│ 0.452501 │\n",
            "╘══════════╛\n",
            "iteration 18:\n",
            "╒══════════╕\n",
            "│ 0.12758  │\n",
            "├──────────┤\n",
            "│ 0.266537 │\n",
            "├──────────┤\n",
            "│ 0.126974 │\n",
            "├──────────┤\n",
            "│ 0.478909 │\n",
            "╘══════════╛\n",
            "iteration 19:\n",
            "╒══════════╕\n",
            "│ 0.114822 │\n",
            "├──────────┤\n",
            "│ 0.25681  │\n",
            "├──────────┤\n",
            "│ 0.123806 │\n",
            "├──────────┤\n",
            "│ 0.504562 │\n",
            "╘══════════╛\n",
            "iteration 20:\n",
            "╒══════════╕\n",
            "│ 0.10334  │\n",
            "├──────────┤\n",
            "│ 0.246871 │\n",
            "├──────────┤\n",
            "│ 0.120372 │\n",
            "├──────────┤\n",
            "│ 0.529417 │\n",
            "╘══════════╛\n",
            "iteration 21:\n",
            "╒═══════════╕\n",
            "│ 0.0930061 │\n",
            "├───────────┤\n",
            "│ 0.236823  │\n",
            "├───────────┤\n",
            "│ 0.116727  │\n",
            "├───────────┤\n",
            "│ 0.553444  │\n",
            "╘═══════════╛\n",
            "iteration 22:\n",
            "╒═══════════╕\n",
            "│ 0.0837055 │\n",
            "├───────────┤\n",
            "│ 0.226756  │\n",
            "├───────────┤\n",
            "│ 0.112919  │\n",
            "├───────────┤\n",
            "│ 0.576619  │\n",
            "╘═══════════╛\n",
            "iteration 23:\n",
            "╒══════════╕\n",
            "│ 0.075335 │\n",
            "├──────────┤\n",
            "│ 0.216743 │\n",
            "├──────────┤\n",
            "│ 0.108993 │\n",
            "├──────────┤\n",
            "│ 0.598929 │\n",
            "╘══════════╛\n",
            "iteration 24:\n",
            "╒═══════════╕\n",
            "│ 0.0678015 │\n",
            "├───────────┤\n",
            "│ 0.206844  │\n",
            "├───────────┤\n",
            "│ 0.104988  │\n",
            "├───────────┤\n",
            "│ 0.620366  │\n",
            "╘═══════════╛\n",
            "iteration 25:\n",
            "╒═══════════╕\n",
            "│ 0.0610213 │\n",
            "├───────────┤\n",
            "│ 0.197111  │\n",
            "├───────────┤\n",
            "│ 0.100938  │\n",
            "├───────────┤\n",
            "│ 0.640929  │\n",
            "╘═══════════╛\n",
            "iteration 26:\n",
            "╒═══════════╕\n",
            "│ 0.0549192 │\n",
            "├───────────┤\n",
            "│ 0.187585  │\n",
            "├───────────┤\n",
            "│ 0.0968733 │\n",
            "├───────────┤\n",
            "│ 0.660623  │\n",
            "╘═══════════╛\n",
            "iteration 27:\n",
            "╒═══════════╕\n",
            "│ 0.0494273 │\n",
            "├───────────┤\n",
            "│ 0.178298  │\n",
            "├───────────┤\n",
            "│ 0.0928199 │\n",
            "├───────────┤\n",
            "│ 0.679454  │\n",
            "╘═══════════╛\n",
            "iteration 28:\n",
            "╒═══════════╕\n",
            "│ 0.0444845 │\n",
            "├───────────┤\n",
            "│ 0.169277  │\n",
            "├───────────┤\n",
            "│ 0.0888004 │\n",
            "├───────────┤\n",
            "│ 0.697438  │\n",
            "╘═══════════╛\n",
            "iteration 29:\n",
            "╒═══════════╕\n",
            "│ 0.0400361 │\n",
            "├───────────┤\n",
            "│ 0.160542  │\n",
            "├───────────┤\n",
            "│ 0.0848339 │\n",
            "├───────────┤\n",
            "│ 0.714588  │\n",
            "╘═══════════╛\n",
            "iteration 30:\n",
            "╒═══════════╕\n",
            "│ 0.0360325 │\n",
            "├───────────┤\n",
            "│ 0.152106  │\n",
            "├───────────┤\n",
            "│ 0.0809366 │\n",
            "├───────────┤\n",
            "│ 0.730924  │\n",
            "╘═══════════╛\n",
            "iteration 31:\n",
            "╒═══════════╕\n",
            "│ 0.0324292 │\n",
            "├───────────┤\n",
            "│ 0.143981  │\n",
            "├───────────┤\n",
            "│ 0.0771221 │\n",
            "├───────────┤\n",
            "│ 0.746467  │\n",
            "╘═══════════╛\n",
            "iteration 32:\n",
            "╒═══════════╕\n",
            "│ 0.0291863 │\n",
            "├───────────┤\n",
            "│ 0.136173  │\n",
            "├───────────┤\n",
            "│ 0.0734014 │\n",
            "├───────────┤\n",
            "│ 0.76124   │\n",
            "╘═══════════╛\n",
            "iteration 33:\n",
            "╒═══════════╕\n",
            "│ 0.0262677 │\n",
            "├───────────┤\n",
            "│ 0.128684  │\n",
            "├───────────┤\n",
            "│ 0.0697836 │\n",
            "├───────────┤\n",
            "│ 0.775265  │\n",
            "╘═══════════╛\n",
            "iteration 34:\n",
            "╒═══════════╕\n",
            "│ 0.0236409 │\n",
            "├───────────┤\n",
            "│ 0.121514  │\n",
            "├───────────┤\n",
            "│ 0.0662756 │\n",
            "├───────────┤\n",
            "│ 0.788569  │\n",
            "╘═══════════╛\n",
            "iteration 35:\n",
            "╒═══════════╕\n",
            "│ 0.0212768 │\n",
            "├───────────┤\n",
            "│ 0.114663  │\n",
            "├───────────┤\n",
            "│ 0.0628828 │\n",
            "├───────────┤\n",
            "│ 0.801177  │\n",
            "╘═══════════╛\n",
            "iteration 36:\n",
            "╒═══════════╕\n",
            "│ 0.0191491 │\n",
            "├───────────┤\n",
            "│ 0.108126  │\n",
            "├───────────┤\n",
            "│ 0.0596091 │\n",
            "├───────────┤\n",
            "│ 0.813116  │\n",
            "╘═══════════╛\n",
            "iteration 37:\n",
            "╒═══════════╕\n",
            "│ 0.0172342 │\n",
            "├───────────┤\n",
            "│ 0.101898  │\n",
            "├───────────┤\n",
            "│ 0.056457  │\n",
            "├───────────┤\n",
            "│ 0.824411  │\n",
            "╘═══════════╛\n",
            "iteration 38:\n",
            "╒═══════════╕\n",
            "│ 0.0155108 │\n",
            "├───────────┤\n",
            "│ 0.0959714 │\n",
            "├───────────┤\n",
            "│ 0.053428  │\n",
            "├───────────┤\n",
            "│ 0.83509   │\n",
            "╘═══════════╛\n",
            "iteration 39:\n",
            "╒═══════════╕\n",
            "│ 0.0139597 │\n",
            "├───────────┤\n",
            "│ 0.0903392 │\n",
            "├───────────┤\n",
            "│ 0.0505226 │\n",
            "├───────────┤\n",
            "│ 0.845179  │\n",
            "╘═══════════╛\n",
            "iteration 40:\n",
            "╒═══════════╕\n",
            "│ 0.0125638 │\n",
            "├───────────┤\n",
            "│ 0.0849926 │\n",
            "├───────────┤\n",
            "│ 0.0477404 │\n",
            "├───────────┤\n",
            "│ 0.854703  │\n",
            "╘═══════════╛\n",
            "iteration 41:\n",
            "╒═══════════╕\n",
            "│ 0.0113074 │\n",
            "├───────────┤\n",
            "│ 0.0799226 │\n",
            "├───────────┤\n",
            "│ 0.0450802 │\n",
            "├───────────┤\n",
            "│ 0.86369   │\n",
            "╘═══════════╛\n",
            "iteration 42:\n",
            "╒═══════════╕\n",
            "│ 0.0101766 │\n",
            "├───────────┤\n",
            "│ 0.0751195 │\n",
            "├───────────┤\n",
            "│ 0.0425405 │\n",
            "├───────────┤\n",
            "│ 0.872163  │\n",
            "╘═══════════╛\n",
            "iteration 43:\n",
            "╒════════════╕\n",
            "│ 0.00915897 │\n",
            "├────────────┤\n",
            "│ 0.0705735  │\n",
            "├────────────┤\n",
            "│ 0.0401189  │\n",
            "├────────────┤\n",
            "│ 0.880149   │\n",
            "╘════════════╛\n",
            "iteration 44:\n",
            "╒════════════╕\n",
            "│ 0.00824308 │\n",
            "├────────────┤\n",
            "│ 0.0662745  │\n",
            "├────────────┤\n",
            "│ 0.0378129  │\n",
            "├────────────┤\n",
            "│ 0.88767    │\n",
            "╘════════════╛\n",
            "iteration 45:\n",
            "╒════════════╕\n",
            "│ 0.00741877 │\n",
            "├────────────┤\n",
            "│ 0.0622123  │\n",
            "├────────────┤\n",
            "│ 0.0356196  │\n",
            "├────────────┤\n",
            "│ 0.894749   │\n",
            "╘════════════╛\n",
            "iteration 46:\n",
            "╒════════════╕\n",
            "│ 0.00667689 │\n",
            "├────────────┤\n",
            "│ 0.0583768  │\n",
            "├────────────┤\n",
            "│ 0.0335356  │\n",
            "├────────────┤\n",
            "│ 0.901411   │\n",
            "╘════════════╛\n",
            "iteration 47:\n",
            "╒═══════════╕\n",
            "│ 0.0060092 │\n",
            "├───────────┤\n",
            "│ 0.0547578 │\n",
            "├───────────┤\n",
            "│ 0.0315577 │\n",
            "├───────────┤\n",
            "│ 0.907675  │\n",
            "╘═══════════╛\n",
            "iteration 48:\n",
            "╒════════════╕\n",
            "│ 0.00540828 │\n",
            "├────────────┤\n",
            "│ 0.0513454  │\n",
            "├────────────┤\n",
            "│ 0.0296821  │\n",
            "├────────────┤\n",
            "│ 0.913564   │\n",
            "╘════════════╛\n",
            "iteration 49:\n",
            "╒════════════╕\n",
            "│ 0.00486745 │\n",
            "├────────────┤\n",
            "│ 0.0481298  │\n",
            "├────────────┤\n",
            "│ 0.0279052  │\n",
            "├────────────┤\n",
            "│ 0.919098   │\n",
            "╘════════════╛\n",
            "iteration 50:\n",
            "╒════════════╕\n",
            "│ 0.00438071 │\n",
            "├────────────┤\n",
            "│ 0.0451014  │\n",
            "├────────────┤\n",
            "│ 0.0262233  │\n",
            "├────────────┤\n",
            "│ 0.924295   │\n",
            "╘════════════╛\n",
            "iteration 51:\n",
            "╒════════════╕\n",
            "│ 0.00394264 │\n",
            "├────────────┤\n",
            "│ 0.042251   │\n",
            "├────────────┤\n",
            "│ 0.0246325  │\n",
            "├────────────┤\n",
            "│ 0.929174   │\n",
            "╘════════════╛\n",
            "iteration 52:\n",
            "╒════════════╕\n",
            "│ 0.00354837 │\n",
            "├────────────┤\n",
            "│ 0.0395694  │\n",
            "├────────────┤\n",
            "│ 0.023129   │\n",
            "├────────────┤\n",
            "│ 0.933753   │\n",
            "╘════════════╛\n",
            "iteration 53:\n",
            "╒════════════╕\n",
            "│ 0.00319354 │\n",
            "├────────────┤\n",
            "│ 0.0370479  │\n",
            "├────────────┤\n",
            "│ 0.0217091  │\n",
            "├────────────┤\n",
            "│ 0.938049   │\n",
            "╘════════════╛\n",
            "iteration 54:\n",
            "╒════════════╕\n",
            "│ 0.00287418 │\n",
            "├────────────┤\n",
            "│ 0.0346781  │\n",
            "├────────────┤\n",
            "│ 0.020369   │\n",
            "├────────────┤\n",
            "│ 0.942079   │\n",
            "╘════════════╛\n",
            "iteration 55:\n",
            "╒════════════╕\n",
            "│ 0.00258676 │\n",
            "├────────────┤\n",
            "│ 0.0324518  │\n",
            "├────────────┤\n",
            "│ 0.019105   │\n",
            "├────────────┤\n",
            "│ 0.945856   │\n",
            "╘════════════╛\n",
            "iteration 56:\n",
            "╒════════════╕\n",
            "│ 0.00232809 │\n",
            "├────────────┤\n",
            "│ 0.0303613  │\n",
            "├────────────┤\n",
            "│ 0.0179136  │\n",
            "├────────────┤\n",
            "│ 0.949397   │\n",
            "╘════════════╛\n",
            "iteration 57:\n",
            "╒════════════╕\n",
            "│ 0.00209528 │\n",
            "├────────────┤\n",
            "│ 0.0283989  │\n",
            "├────────────┤\n",
            "│ 0.0167912  │\n",
            "├────────────┤\n",
            "│ 0.952715   │\n",
            "╘════════════╛\n",
            "iteration 58:\n",
            "╒════════════╕\n",
            "│ 0.00188575 │\n",
            "├────────────┤\n",
            "│ 0.0265577  │\n",
            "├────────────┤\n",
            "│ 0.0157344  │\n",
            "├────────────┤\n",
            "│ 0.955822   │\n",
            "╘════════════╛\n",
            "iteration 59:\n",
            "╒════════════╕\n",
            "│ 0.00169718 │\n",
            "├────────────┤\n",
            "│ 0.0248307  │\n",
            "├────────────┤\n",
            "│ 0.0147398  │\n",
            "├────────────┤\n",
            "│ 0.958732   │\n",
            "╘════════════╛\n",
            "iteration 60:\n",
            "╒════════════╕\n",
            "│ 0.00152746 │\n",
            "├────────────┤\n",
            "│ 0.0232113  │\n",
            "├────────────┤\n",
            "│ 0.0138043  │\n",
            "├────────────┤\n",
            "│ 0.961457   │\n",
            "╘════════════╛\n",
            "iteration 61:\n",
            "╒════════════╕\n",
            "│ 0.00137471 │\n",
            "├────────────┤\n",
            "│ 0.0216934  │\n",
            "├────────────┤\n",
            "│ 0.0129248  │\n",
            "├────────────┤\n",
            "│ 0.964007   │\n",
            "╘════════════╛\n",
            "iteration 62:\n",
            "╒════════════╕\n",
            "│ 0.00123724 │\n",
            "├────────────┤\n",
            "│ 0.0202711  │\n",
            "├────────────┤\n",
            "│ 0.0120982  │\n",
            "├────────────┤\n",
            "│ 0.966393   │\n",
            "╘════════════╛\n",
            "iteration 63:\n",
            "╒════════════╕\n",
            "│ 0.00111352 │\n",
            "├────────────┤\n",
            "│ 0.0189388  │\n",
            "├────────────┤\n",
            "│ 0.0113218  │\n",
            "├────────────┤\n",
            "│ 0.968626   │\n",
            "╘════════════╛\n",
            "iteration 64:\n",
            "╒════════════╕\n",
            "│ 0.00100217 │\n",
            "├────────────┤\n",
            "│ 0.017691   │\n",
            "├────────────┤\n",
            "│ 0.0105927  │\n",
            "├────────────┤\n",
            "│ 0.970714   │\n",
            "╘════════════╛\n",
            "iteration 65:\n",
            "╒═════════════╕\n",
            "│ 0.000901949 │\n",
            "├─────────────┤\n",
            "│ 0.0165228   │\n",
            "├─────────────┤\n",
            "│ 0.00990842  │\n",
            "├─────────────┤\n",
            "│ 0.972667    │\n",
            "╘═════════════╛\n",
            "iteration 66:\n",
            "╒═════════════╕\n",
            "│ 0.000811754 │\n",
            "├─────────────┤\n",
            "│ 0.0154293   │\n",
            "├─────────────┤\n",
            "│ 0.00926633  │\n",
            "├─────────────┤\n",
            "│ 0.974493    │\n",
            "╘═════════════╛\n",
            "iteration 67:\n",
            "╒═════════════╕\n",
            "│ 0.000730579 │\n",
            "├─────────────┤\n",
            "│ 0.0144061   │\n",
            "├─────────────┤\n",
            "│ 0.00866408  │\n",
            "├─────────────┤\n",
            "│ 0.976199    │\n",
            "╘═════════════╛\n",
            "iteration 68:\n",
            "╒═════════════╕\n",
            "│ 0.000657521 │\n",
            "├─────────────┤\n",
            "│ 0.0134488   │\n",
            "├─────────────┤\n",
            "│ 0.00809939  │\n",
            "├─────────────┤\n",
            "│ 0.977794    │\n",
            "╘═════════════╛\n",
            "iteration 69:\n",
            "╒═════════════╕\n",
            "│ 0.000591769 │\n",
            "├─────────────┤\n",
            "│ 0.0125534   │\n",
            "├─────────────┤\n",
            "│ 0.00757007  │\n",
            "├─────────────┤\n",
            "│ 0.979285    │\n",
            "╘═════════════╛\n",
            "iteration 70:\n",
            "╒═════════════╕\n",
            "│ 0.000532592 │\n",
            "├─────────────┤\n",
            "│ 0.0117161   │\n",
            "├─────────────┤\n",
            "│ 0.00707406  │\n",
            "├─────────────┤\n",
            "│ 0.980677    │\n",
            "╘═════════════╛\n",
            "iteration 71:\n",
            "╒═════════════╕\n",
            "│ 0.000479333 │\n",
            "├─────────────┤\n",
            "│ 0.0109333   │\n",
            "├─────────────┤\n",
            "│ 0.00660941  │\n",
            "├─────────────┤\n",
            "│ 0.981978    │\n",
            "╘═════════════╛\n",
            "iteration 72:\n",
            "╒═════════════╕\n",
            "│ 0.000431399 │\n",
            "├─────────────┤\n",
            "│ 0.0102015   │\n",
            "├─────────────┤\n",
            "│ 0.00617425  │\n",
            "├─────────────┤\n",
            "│ 0.983193    │\n",
            "╘═════════════╛\n",
            "iteration 73:\n",
            "╒════════════╕\n",
            "│ 0.00038826 │\n",
            "├────────────┤\n",
            "│ 0.00951757 │\n",
            "├────────────┤\n",
            "│ 0.00576681 │\n",
            "├────────────┤\n",
            "│ 0.984327   │\n",
            "╘════════════╛\n",
            "iteration 74:\n",
            "╒═════════════╕\n",
            "│ 0.000349434 │\n",
            "├─────────────┤\n",
            "│ 0.00887852  │\n",
            "├─────────────┤\n",
            "│ 0.00538544  │\n",
            "├─────────────┤\n",
            "│ 0.985387    │\n",
            "╘═════════════╛\n",
            "iteration 75:\n",
            "╒════════════╕\n",
            "│ 0.00031449 │\n",
            "├────────────┤\n",
            "│ 0.00828148 │\n",
            "├────────────┤\n",
            "│ 0.00502853 │\n",
            "├────────────┤\n",
            "│ 0.986375   │\n",
            "╘════════════╛\n",
            "iteration 76:\n",
            "╒═════════════╕\n",
            "│ 0.000283041 │\n",
            "├─────────────┤\n",
            "│ 0.00772379  │\n",
            "├─────────────┤\n",
            "│ 0.00469462  │\n",
            "├─────────────┤\n",
            "│ 0.987299    │\n",
            "╘═════════════╛\n",
            "iteration 77:\n",
            "╒═════════════╕\n",
            "│ 0.000254737 │\n",
            "├─────────────┤\n",
            "│ 0.00720294  │\n",
            "├─────────────┤\n",
            "│ 0.00438228  │\n",
            "├─────────────┤\n",
            "│ 0.98816     │\n",
            "╘═════════════╛\n",
            "iteration 78:\n",
            "╒═════════════╕\n",
            "│ 0.000229263 │\n",
            "├─────────────┤\n",
            "│ 0.00671657  │\n",
            "├─────────────┤\n",
            "│ 0.00409018  │\n",
            "├─────────────┤\n",
            "│ 0.988964    │\n",
            "╘═════════════╛\n",
            "iteration 79:\n",
            "╒═════════════╕\n",
            "│ 0.000206337 │\n",
            "├─────────────┤\n",
            "│ 0.00626246  │\n",
            "├─────────────┤\n",
            "│ 0.00381706  │\n",
            "├─────────────┤\n",
            "│ 0.989714    │\n",
            "╘═════════════╛\n",
            "iteration 80:\n",
            "╒═════════════╕\n",
            "│ 0.000185703 │\n",
            "├─────────────┤\n",
            "│ 0.00583853  │\n",
            "├─────────────┤\n",
            "│ 0.00356175  │\n",
            "├─────────────┤\n",
            "│ 0.990414    │\n",
            "╘═════════════╛\n",
            "iteration 81:\n",
            "╒═════════════╕\n",
            "│ 0.000167133 │\n",
            "├─────────────┤\n",
            "│ 0.00544283  │\n",
            "├─────────────┤\n",
            "│ 0.00332313  │\n",
            "├─────────────┤\n",
            "│ 0.991067    │\n",
            "╘═════════════╛\n",
            "iteration 82:\n",
            "╒════════════╕\n",
            "│ 0.00015042 │\n",
            "├────────────┤\n",
            "│ 0.00507353 │\n",
            "├────────────┤\n",
            "│ 0.00310015 │\n",
            "├────────────┤\n",
            "│ 0.991676   │\n",
            "╘════════════╛\n",
            "iteration 83:\n",
            "╒═════════════╕\n",
            "│ 0.000135378 │\n",
            "├─────────────┤\n",
            "│ 0.00472891  │\n",
            "├─────────────┤\n",
            "│ 0.00289181  │\n",
            "├─────────────┤\n",
            "│ 0.992244    │\n",
            "╘═════════════╛\n",
            "iteration 84:\n",
            "╒════════════╕\n",
            "│ 0.00012184 │\n",
            "├────────────┤\n",
            "│ 0.00440737 │\n",
            "├────────────┤\n",
            "│ 0.00269719 │\n",
            "├────────────┤\n",
            "│ 0.992774   │\n",
            "╘════════════╛\n",
            "iteration 85:\n",
            "╒═════════════╕\n",
            "│ 0.000109656 │\n",
            "├─────────────┤\n",
            "│ 0.00410738  │\n",
            "├─────────────┤\n",
            "│ 0.00251542  │\n",
            "├─────────────┤\n",
            "│ 0.993268    │\n",
            "╘═════════════╛\n",
            "iteration 86:\n",
            "╒═════════════╕\n",
            "│ 9.86904e-05 │\n",
            "├─────────────┤\n",
            "│ 0.00382754  │\n",
            "├─────────────┤\n",
            "│ 0.00234567  │\n",
            "├─────────────┤\n",
            "│ 0.993728    │\n",
            "╘═════════════╛\n",
            "iteration 87:\n",
            "╒═════════════╕\n",
            "│ 8.88213e-05 │\n",
            "├─────────────┤\n",
            "│ 0.00356652  │\n",
            "├─────────────┤\n",
            "│ 0.00218717  │\n",
            "├─────────────┤\n",
            "│ 0.994157    │\n",
            "╘═════════════╛\n",
            "iteration 88:\n",
            "╒═════════════╕\n",
            "│ 7.99392e-05 │\n",
            "├─────────────┤\n",
            "│ 0.00332308  │\n",
            "├─────────────┤\n",
            "│ 0.00203919  │\n",
            "├─────────────┤\n",
            "│ 0.994558    │\n",
            "╘═════════════╛\n",
            "iteration 89:\n",
            "╒═════════════╕\n",
            "│ 7.19453e-05 │\n",
            "├─────────────┤\n",
            "│ 0.00309606  │\n",
            "├─────────────┤\n",
            "│ 0.00190107  │\n",
            "├─────────────┤\n",
            "│ 0.994931    │\n",
            "╘═════════════╛\n",
            "iteration 90:\n",
            "╒═════════════╕\n",
            "│ 6.47507e-05 │\n",
            "├─────────────┤\n",
            "│ 0.00288437  │\n",
            "├─────────────┤\n",
            "│ 0.00177215  │\n",
            "├─────────────┤\n",
            "│ 0.995279    │\n",
            "╘═════════════╛\n",
            "iteration 91:\n",
            "╒═════════════╕\n",
            "│ 5.82757e-05 │\n",
            "├─────────────┤\n",
            "│ 0.002687    │\n",
            "├─────────────┤\n",
            "│ 0.00165184  │\n",
            "├─────────────┤\n",
            "│ 0.995603    │\n",
            "╘═════════════╛\n",
            "iteration 92:\n",
            "╒═════════════╕\n",
            "│ 5.24481e-05 │\n",
            "├─────────────┤\n",
            "│ 0.00250299  │\n",
            "├─────────────┤\n",
            "│ 0.00153958  │\n",
            "├─────────────┤\n",
            "│ 0.995905    │\n",
            "╘═════════════╛\n",
            "iteration 93:\n",
            "╒═════════════╕\n",
            "│ 4.72033e-05 │\n",
            "├─────────────┤\n",
            "│ 0.00233145  │\n",
            "├─────────────┤\n",
            "│ 0.00143484  │\n",
            "├─────────────┤\n",
            "│ 0.996187    │\n",
            "╘═════════════╛\n",
            "iteration 94:\n",
            "╒════════════╕\n",
            "│ 4.2483e-05 │\n",
            "├────────────┤\n",
            "│ 0.00217155 │\n",
            "├────────────┤\n",
            "│ 0.00133713 │\n",
            "├────────────┤\n",
            "│ 0.996449   │\n",
            "╘════════════╛\n",
            "iteration 95:\n",
            "╒═════════════╕\n",
            "│ 3.82347e-05 │\n",
            "├─────────────┤\n",
            "│ 0.00202252  │\n",
            "├─────────────┤\n",
            "│ 0.00124599  │\n",
            "├─────────────┤\n",
            "│ 0.996693    │\n",
            "╘═════════════╛\n",
            "iteration 96:\n",
            "╒═════════════╕\n",
            "│ 3.44112e-05 │\n",
            "├─────────────┤\n",
            "│ 0.00188362  │\n",
            "├─────────────┤\n",
            "│ 0.00116098  │\n",
            "├─────────────┤\n",
            "│ 0.996921    │\n",
            "╘═════════════╛\n",
            "iteration 97:\n",
            "╒═════════════╕\n",
            "│ 3.09701e-05 │\n",
            "├─────────────┤\n",
            "│ 0.00175417  │\n",
            "├─────────────┤\n",
            "│ 0.0010817   │\n",
            "├─────────────┤\n",
            "│ 0.997133    │\n",
            "╘═════════════╛\n",
            "iteration 98:\n",
            "╒═════════════╕\n",
            "│ 2.78731e-05 │\n",
            "├─────────────┤\n",
            "│ 0.00163355  │\n",
            "├─────────────┤\n",
            "│ 0.00100778  │\n",
            "├─────────────┤\n",
            "│ 0.997331    │\n",
            "╘═════════════╛\n",
            "iteration 99:\n",
            "╒═════════════╕\n",
            "│ 2.50858e-05 │\n",
            "├─────────────┤\n",
            "│ 0.00152115  │\n",
            "├─────────────┤\n",
            "│ 0.000938845 │\n",
            "├─────────────┤\n",
            "│ 0.997515    │\n",
            "╘═════════════╛\n",
            "iteration 100:\n",
            "╒═════════════╕\n",
            "│ 2.25772e-05 │\n",
            "├─────────────┤\n",
            "│ 0.00141643  │\n",
            "├─────────────┤\n",
            "│ 0.000874577 │\n",
            "├─────────────┤\n",
            "│ 0.997686    │\n",
            "╘═════════════╛\n"
          ]
        }
      ]
    },
    {
      "cell_type": "code",
      "source": [
        "states, states.shape"
      ],
      "metadata": {
        "colab": {
          "base_uri": "https://localhost:8080/"
        },
        "id": "e2q6SbISL9HJ",
        "outputId": "f0fee3bc-50fe-40dc-bfa2-582397e749ef"
      },
      "execution_count": 82,
      "outputs": [
        {
          "output_type": "execute_result",
          "data": {
            "text/plain": [
              "(array([[8.50000000e-01, 1.00000000e-01, 5.00000000e-02, 0.00000000e+00],\n",
              "        [7.65000000e-01, 1.52500000e-01, 6.45000000e-02, 1.80000000e-02],\n",
              "        [6.88500000e-01, 1.95375000e-01, 7.77500000e-02, 3.83750000e-02],\n",
              "        [6.19650000e-01, 2.29893750e-01, 8.96262500e-02, 6.08300000e-02],\n",
              "        [5.57685000e-01, 2.57176688e-01, 1.00070000e-01, 8.50683125e-02],\n",
              "        [5.01916500e-01, 2.78212269e-01, 1.09072034e-01, 1.10799196e-01],\n",
              "        [4.51724850e-01, 2.93871566e-01, 1.16660173e-01, 1.37743412e-01],\n",
              "        [4.06552365e-01, 3.04921295e-01, 1.22889222e-01, 1.65637118e-01],\n",
              "        [3.65897129e-01, 3.12035470e-01, 1.27832951e-01, 1.94234450e-01],\n",
              "        [3.29307416e-01, 3.15805786e-01, 1.31577724e-01, 2.23309074e-01],\n",
              "        [2.96376674e-01, 3.16750900e-01, 1.34217503e-01, 2.52654922e-01],\n",
              "        [2.66739007e-01, 3.15324705e-01, 1.35849956e-01, 2.82086332e-01],\n",
              "        [2.40065106e-01, 3.11923706e-01, 1.36573478e-01, 3.11437710e-01],\n",
              "        [2.16058595e-01, 3.06893604e-01, 1.36484944e-01, 3.40562857e-01],\n",
              "        [1.94452736e-01, 3.00535153e-01, 1.35678054e-01, 3.69334057e-01],\n",
              "        [1.75007462e-01, 2.93109384e-01, 1.34242159e-01, 3.97640995e-01],\n",
              "        [1.57506716e-01, 2.84842249e-01, 1.32261453e-01, 4.25389581e-01],\n",
              "        [1.41756044e-01, 2.75928762e-01, 1.29814482e-01, 4.52500711e-01],\n",
              "        [1.27580440e-01, 2.66536672e-01, 1.26973869e-01, 4.78909019e-01],\n",
              "        [1.14822396e-01, 2.56809736e-01, 1.23806231e-01, 5.04561638e-01],\n",
              "        [1.03340156e-01, 2.46870622e-01, 1.20372231e-01, 5.29416991e-01],\n",
              "        [9.30061408e-02, 2.36823489e-01, 1.16726730e-01, 5.53443639e-01],\n",
              "        [8.37055267e-02, 2.26756275e-01, 1.12919018e-01, 5.76619180e-01],\n",
              "        [7.53349740e-02, 2.16742723e-01, 1.08993090e-01, 5.98929214e-01],\n",
              "        [6.78014766e-02, 2.06844180e-01, 1.04987962e-01, 6.20366381e-01],\n",
              "        [6.10213290e-02, 1.97111191e-01, 1.00938006e-01, 6.40929474e-01],\n",
              "        [5.49191961e-02, 1.87584901e-01, 9.68732913e-02, 6.60622612e-01],\n",
              "        [4.94272765e-02, 1.78298301e-01, 9.28199266e-02, 6.79454496e-01],\n",
              "        [4.44845488e-02, 1.69277329e-01, 8.88003982e-02, 6.97437724e-01],\n",
              "        [4.00360939e-02, 1.60541835e-01, 8.48338959e-02, 7.14588175e-01],\n",
              "        [3.60324845e-02, 1.52106433e-01, 8.09366251e-02, 7.30924457e-01],\n",
              "        [3.24292361e-02, 1.43981257e-01, 7.71221027e-02, 7.46467405e-01],\n",
              "        [2.91863125e-02, 1.36172615e-01, 7.34014349e-02, 7.61239638e-01],\n",
              "        [2.62676812e-02, 1.28683574e-01, 6.97835766e-02, 7.75265168e-01],\n",
              "        [2.36409131e-02, 1.21514461e-01, 6.62755725e-02, 7.88569053e-01],\n",
              "        [2.12768218e-02, 1.14663313e-01, 6.28827779e-02, 8.01177087e-01],\n",
              "        [1.91491396e-02, 1.08126259e-01, 5.96090633e-02, 8.13115538e-01],\n",
              "        [1.72342257e-02, 1.01897860e-01, 5.64569996e-02, 8.24410914e-01],\n",
              "        [1.55108031e-02, 9.59714059e-02, 5.34280272e-02, 8.35089764e-01],\n",
              "        [1.39597228e-02, 9.03391637e-02, 5.05226094e-02, 8.45178504e-01],\n",
              "        [1.25637505e-02, 8.49926029e-02, 4.77403707e-02, 8.54703276e-01],\n",
              "        [1.13073755e-02, 7.99225832e-02, 4.50802202e-02, 8.63689821e-01],\n",
              "        [1.01766379e-02, 7.51195187e-02, 4.25404639e-02, 8.72163380e-01],\n",
              "        [9.15897411e-03, 7.05735170e-02, 4.01189030e-02, 8.80148606e-01],\n",
              "        [8.24307670e-03, 6.62744990e-02, 3.78129229e-02, 8.87669501e-01],\n",
              "        [7.41876903e-03, 6.22122994e-02, 3.56195709e-02, 8.94749361e-01],\n",
              "        [6.67689213e-03, 5.83767523e-02, 3.35356256e-02, 9.01410730e-01],\n",
              "        [6.00920292e-03, 5.47577621e-02, 3.15576572e-02, 9.07675378e-01],\n",
              "        [5.40828262e-03, 5.13453630e-02, 2.96820808e-02, 9.13564274e-01],\n",
              "        [4.86745436e-03, 4.81297673e-02, 2.79052025e-02, 9.19097576e-01],\n",
              "        [4.38070893e-03, 4.51014054e-02, 2.62232596e-02, 9.24294626e-01],\n",
              "        [3.94263803e-03, 4.22509567e-02, 2.46324551e-02, 9.29173950e-01],\n",
              "        [3.54837423e-03, 3.95693744e-02, 2.31289874e-02, 9.33753264e-01],\n",
              "        [3.19353681e-03, 3.70479044e-02, 2.17090755e-02, 9.38049483e-01],\n",
              "        [2.87418313e-03, 3.46780986e-02, 2.03689801e-02, 9.42078738e-01],\n",
              "        [2.58676481e-03, 3.24518245e-02, 1.91050217e-02, 9.45856389e-01],\n",
              "        [2.32808833e-03, 3.03612704e-02, 1.79135950e-02, 9.49397046e-01],\n",
              "        [2.09527950e-03, 2.83989476e-02, 1.67911810e-02, 9.52714592e-01],\n",
              "        [1.88575155e-03, 2.65576909e-02, 1.57343568e-02, 9.55822201e-01],\n",
              "        [1.69717639e-03, 2.48306551e-02, 1.47398029e-02, 9.58732366e-01],\n",
              "        [1.52745875e-03, 2.32113116e-02, 1.38043087e-02, 9.61456921e-01],\n",
              "        [1.37471288e-03, 2.16934419e-02, 1.29247772e-02, 9.64007068e-01],\n",
              "        [1.23724159e-03, 2.02711309e-02, 1.20982270e-02, 9.66393401e-01],\n",
              "        [1.11351743e-03, 1.89387586e-02, 1.13217943e-02, 9.68625930e-01],\n",
              "        [1.00216569e-03, 1.76909917e-02, 1.05927334e-02, 9.70714109e-01],\n",
              "        [9.01949120e-04, 1.65227739e-02, 9.90841631e-03, 9.72666861e-01],\n",
              "        [8.11754208e-04, 1.54293162e-02, 9.26633154e-03, 9.74492598e-01],\n",
              "        [7.30578787e-04, 1.44060868e-02, 8.66408270e-03, 9.76199252e-01],\n",
              "        [6.57520909e-04, 1.34488013e-02, 8.09938621e-03, 9.77794292e-01],\n",
              "        [5.91768818e-04, 1.25534116e-02, 7.57006876e-03, 9.79284751e-01],\n",
              "        [5.32591936e-04, 1.17160966e-02, 7.07406441e-03, 9.80677247e-01],\n",
              "        [4.79332742e-04, 1.09332513e-02, 6.60941142e-03, 9.81978005e-01],\n",
              "        [4.31399468e-04, 1.02014770e-02, 6.17424893e-03, 9.83192875e-01],\n",
              "        [3.88259521e-04, 9.51757159e-03, 5.76681343e-03, 9.84327355e-01],\n",
              "        [3.49433569e-04, 8.87851974e-03, 5.38543518e-03, 9.85386612e-01],\n",
              "        [3.14490212e-04, 8.28148371e-03, 5.02853456e-03, 9.86375492e-01],\n",
              "        [2.83041191e-04, 7.72379417e-03, 4.69461837e-03, 9.87298546e-01],\n",
              "        [2.54737072e-04, 7.20294146e-03, 4.38227615e-03, 9.88160045e-01],\n",
              "        [2.29263365e-04, 6.71656715e-03, 4.09017654e-03, 9.88963993e-01],\n",
              "        [2.06337028e-04, 6.26245589e-03, 3.81706368e-03, 9.89714143e-01],\n",
              "        [1.85703325e-04, 5.83852757e-03, 3.56175367e-03, 9.90414015e-01],\n",
              "        [1.67132993e-04, 5.44282987e-03, 3.32313106e-03, 9.91066906e-01],\n",
              "        [1.50419694e-04, 5.07353109e-03, 3.10014555e-03, 9.91675904e-01],\n",
              "        [1.35377724e-04, 4.72891329e-03, 2.89180867e-03, 9.92243900e-01],\n",
              "        [1.21839952e-04, 4.40736580e-03, 2.69719059e-03, 9.92773604e-01],\n",
              "        [1.09655957e-04, 4.10737899e-03, 2.51541709e-03, 9.93267548e-01],\n",
              "        [9.86903610e-05, 3.82753838e-03, 2.34566659e-03, 9.93728105e-01],\n",
              "        [8.88213249e-05, 3.56651902e-03, 2.18716733e-03, 9.94157492e-01],\n",
              "        [7.99391924e-05, 3.32308018e-03, 2.03919461e-03, 9.94557786e-01],\n",
              "        [7.19452732e-05, 3.09606031e-03, 1.90106821e-03, 9.94930926e-01],\n",
              "        [6.47507458e-05, 2.88437226e-03, 1.77214990e-03, 9.95278727e-01],\n",
              "        [5.82756713e-05, 2.68699875e-03, 1.65184104e-03, 9.95602885e-01],\n",
              "        [5.24481041e-05, 2.50298814e-03, 1.53958034e-03, 9.95904983e-01],\n",
              "        [4.72032937e-05, 2.33145033e-03, 1.43484166e-03, 9.96186505e-01],\n",
              "        [4.24829643e-05, 2.17155304e-03, 1.33713199e-03, 9.96448832e-01],\n",
              "        [3.82346679e-05, 2.02251814e-03, 1.24598950e-03, 9.96693258e-01],\n",
              "        [3.44112011e-05, 1.88361829e-03, 1.16098168e-03, 9.96920989e-01],\n",
              "        [3.09700810e-05, 1.75417380e-03, 1.08170356e-03, 9.97133153e-01],\n",
              "        [2.78730729e-05, 1.63354954e-03, 1.00777612e-03, 9.97330801e-01],\n",
              "        [2.50857656e-05, 1.52115218e-03, 9.38844641e-04, 9.97514917e-01],\n",
              "        [2.25771891e-05, 1.41642753e-03, 8.74577270e-04, 9.97686418e-01]]),\n",
              " (101, 4))"
            ]
          },
          "metadata": {},
          "execution_count": 82
        }
      ]
    },
    {
      "cell_type": "code",
      "source": [
        "import plotly.graph_objects as go\n",
        "\n",
        "\n",
        "x = np.arange(states.shape[0])\n",
        "key_map = {\n",
        "    0:\"asymptomatic\",\n",
        "    1:\"symptomatic\",\n",
        "    2:\"AIDS\",\n",
        "    3:\"death\",\n",
        "}\n",
        "fig = go.Figure()\n",
        "for i in range(states.shape[1]):\n",
        "    fig.add_trace(go.Scatter(x=x, y=states[:, i], mode=\"lines\", name=f\"{key_map[i]}\"))\n",
        "fig.update_layout(title=\"Infection Game: Effects of AIDS on a population over time\",xaxis_title=\"Time\", yaxis_title=\"Population Percentage\", height=800)\n",
        "fig.show()"
      ],
      "metadata": {
        "colab": {
          "base_uri": "https://localhost:8080/",
          "height": 817
        },
        "id": "5Huh9csnMHwb",
        "outputId": "7a5231a4-29e4-494c-f5c5-f37c3a05227b"
      },
      "execution_count": 89,
      "outputs": [
        {
          "output_type": "display_data",
          "data": {
            "text/html": [
              "<html>\n",
              "<head><meta charset=\"utf-8\" /></head>\n",
              "<body>\n",
              "    <div>            <script src=\"https://cdnjs.cloudflare.com/ajax/libs/mathjax/2.7.5/MathJax.js?config=TeX-AMS-MML_SVG\"></script><script type=\"text/javascript\">if (window.MathJax && window.MathJax.Hub && window.MathJax.Hub.Config) {window.MathJax.Hub.Config({SVG: {font: \"STIX-Web\"}});}</script>                <script type=\"text/javascript\">window.PlotlyConfig = {MathJaxConfig: 'local'};</script>\n",
              "        <script charset=\"utf-8\" src=\"https://cdn.plot.ly/plotly-2.35.2.min.js\"></script>                <div id=\"b32e3cd5-f0e0-4942-bc81-a660ab5df34f\" class=\"plotly-graph-div\" style=\"height:800px; width:100%;\"></div>            <script type=\"text/javascript\">                                    window.PLOTLYENV=window.PLOTLYENV || {};                                    if (document.getElementById(\"b32e3cd5-f0e0-4942-bc81-a660ab5df34f\")) {                    Plotly.newPlot(                        \"b32e3cd5-f0e0-4942-bc81-a660ab5df34f\",                        [{\"mode\":\"lines\",\"name\":\"asymptomatic\",\"x\":[0,1,2,3,4,5,6,7,8,9,10,11,12,13,14,15,16,17,18,19,20,21,22,23,24,25,26,27,28,29,30,31,32,33,34,35,36,37,38,39,40,41,42,43,44,45,46,47,48,49,50,51,52,53,54,55,56,57,58,59,60,61,62,63,64,65,66,67,68,69,70,71,72,73,74,75,76,77,78,79,80,81,82,83,84,85,86,87,88,89,90,91,92,93,94,95,96,97,98,99,100],\"y\":[0.85,0.765,0.6885,0.61965,0.5576850000000001,0.5019165000000001,0.4517248500000001,0.40655236500000014,0.3658971285000001,0.3293074156500001,0.2963766740850001,0.26673900667650013,0.24006510600885012,0.2160585954079651,0.1944527358671686,0.17500746228045175,0.15750671605240657,0.1417560444471659,0.12758044000244934,0.11482239600220441,0.10334015640198398,0.09300614076178558,0.08370552668560702,0.07533497401704632,0.0678014766153417,0.061021328953807526,0.054919196058426774,0.049427276452584094,0.044484548807325684,0.040036093926593116,0.0360324845339338,0.03242923608054042,0.02918631247248638,0.026267681225237743,0.02364091310271397,0.02127682179244257,0.019149139613198314,0.017234225651878484,0.015510803086690636,0.013959722778021572,0.012563750500219415,0.011307375450197473,0.010176637905177725,0.009158974114659952,0.008243076703193956,0.007418769032874561,0.006676892129587105,0.006009202916628395,0.005408282624965555,0.004867454362469,0.0043807089262221,0.00394263803359989,0.0035483742302399013,0.003193536807215911,0.00287418312649432,0.0025867648138448883,0.0023280883324603993,0.0020952794992143593,0.0018857515492929234,0.001697176394363631,0.001527458754927268,0.0013747128794345412,0.001237241591491087,0.0011135174323419785,0.0010021656891077806,0.0009019491201970025,0.0008117542081773023,0.000730578787359572,0.0006575209086236148,0.0005917688177612534,0.0005325919359851281,0.00047933274238661525,0.00043139946814795373,0.00038825952133315835,0.00034943356919984255,0.0003144902122798583,0.0002830411910518725,0.00025473707194668526,0.00022926336475201673,0.00020633702827681507,0.00018570332544913355,0.0001671329929042202,0.00015041969361379818,0.00013537772425241838,0.00012183995182717653,0.00010965595664445889,0.000098690360980013,0.00008882132488201171,0.00007993919239381054,0.00007194527315442948,0.00006475074583898653,0.000058275671255087884,0.000052448104129579095,0.00004720329371662118,0.00004248296434495907,0.000038234667910463163,0.00003441120111941685,0.000030970081007475166,0.00002787307290672765,0.000025085765616054886,0.000022577189054449397],\"type\":\"scatter\"},{\"mode\":\"lines\",\"name\":\"symptomatic\",\"x\":[0,1,2,3,4,5,6,7,8,9,10,11,12,13,14,15,16,17,18,19,20,21,22,23,24,25,26,27,28,29,30,31,32,33,34,35,36,37,38,39,40,41,42,43,44,45,46,47,48,49,50,51,52,53,54,55,56,57,58,59,60,61,62,63,64,65,66,67,68,69,70,71,72,73,74,75,76,77,78,79,80,81,82,83,84,85,86,87,88,89,90,91,92,93,94,95,96,97,98,99,100],\"y\":[0.1,0.15250000000000002,0.19537500000000005,0.22989375000000006,0.25717668750000006,0.27821226937500004,0.29387156551875004,0.30492129543243757,0.31203547030216694,0.3158057863760153,0.31675090042519427,0.31532470458138073,0.31192370572803907,0.3068936037476958,0.30053515316391466,0.29310938395314245,0.28484224943605413,0.2759287620991988,0.2665366718635565,0.256809735633279,0.24687062185910383,0.23682348927710545,0.22675627488103306,0.21674272250735327,0.2068441801130318,0.19711119086819348,0.18758490053418647,0.1782983012208833,0.16927732948710236,0.160541834839518,0.15210643297561327,0.1439812565846957,0.13617261514940485,0.12868357396202057,0.12151446147044578,0.11466331308470457,0.10812625869424623,0.10189786035857287,0.09597140592910426,0.09033916373013531,0.08499260286348737,0.07992258319805862,0.07511951865570833,0.07057351700317119,0.0662744990009754,0.0622122994401307,0.05837675231162278,0.05475776209888028,0.05134536295612265,0.04812976733294166,0.045101405425008574,0.04225095667009353,0.03956937436553898,0.03704790435606804,0.034678098627648396,0.03245182454256761,0.030361270361557023,0.028398947619520262,0.026557690851098853,0.02483065509997244,0.023211311590579823,0.021693441892084147,0.020271130861198673,0.018938758612319143,0.017690991729720742,0.016522773906877834,0.015429316171810176,0.014406086834355875,0.013448801271066135,0.01255341164569516,0.011716096647739786,0.010933251317916962,0.010201477017629839,0.009517571589166109,0.008878519744417803,0.008281483712152546,0.007723794167161458,0.007202941458833788,0.006716567151751691,0.006262455886661714,0.005838527566574771,0.005442829869695977,0.005073531088320555,0.004728913290691082,0.004407365801040375,0.004107378991595452,0.0038275383791488825,0.003566519017877062,0.0033230801793674085,0.0030960603102792566,0.002884372257680519,0.0026869987518516117,0.0025029881362098553,0.002331450333964236,0.0021715530411469033,0.0020225181357707675,0.0018836182930205463,0.0017541737965874674,0.0016335495364968682,0.0015211521840455583,0.001416427534755493],\"type\":\"scatter\"},{\"mode\":\"lines\",\"name\":\"AIDS\",\"x\":[0,1,2,3,4,5,6,7,8,9,10,11,12,13,14,15,16,17,18,19,20,21,22,23,24,25,26,27,28,29,30,31,32,33,34,35,36,37,38,39,40,41,42,43,44,45,46,47,48,49,50,51,52,53,54,55,56,57,58,59,60,61,62,63,64,65,66,67,68,69,70,71,72,73,74,75,76,77,78,79,80,81,82,83,84,85,86,87,88,89,90,91,92,93,94,95,96,97,98,99,100],\"y\":[0.05,0.0645,0.07775000000000001,0.08962625000000002,0.10007000000000002,0.10907203437500002,0.11666017268750001,0.12288922206031251,0.1278329508228875,0.13157772428456274,0.1342175032736791,0.13584995628558694,0.13657347820534793,0.1364849438811247,0.1356780543945001,0.13424215861086417,0.1322614532625007,0.12981448206597643,0.12697386874998323,0.12380623083071256,0.12037223090781371,0.11672673049263652,0.11291901819783201,0.108993089745921,0.10498796188974144,0.10093800614423865,0.09687329134508868,0.09281992659120324,0.08880039819261859,0.08483389591422744,0.08093662514760108,0.07712210271492026,0.0734014348585278,0.06978357663666859,0.0662755724637741,0.06288277792978454,0.05960906333040094,0.05645699955781707,0.05342802715511072,0.05052260944003313,0.04774037066609536,0.045080220219359805,0.04254046385536271,0.040118902967947276,0.03781292285520694,0.035619570911038546,0.03353562562704679,0.031557657241162655,0.029682080818264837,0.027905202495830554,0.026223259575352435,0.024632455088824442,0.02312898741967745,0.02170907550960758,0.020368980137114166,0.019105021710459347,0.017913594977295725,0.016791181015428425,0.01573435683407446,0.014739802882504092,0.013804308733014373,0.012924777177689754,0.01209822695322919,0.011321794285134567,0.01059273342162718,0.009908416308651295,0.009266331540101433,0.008664082701840273,0.008099386214029218,0.007570068763650614,0.007074064407743005,0.006609411417688246,0.0061742489257785894,0.005766813427156251,0.0053854351829677825,0.005028534564127502,0.004694618369361601,0.004382276146136472,0.004090176538596624,0.0038170636826897553,0.003561753665184914,0.003323131060244898,0.003100145554551047,0.0028918086696566934,0.002697190588227792,0.0025154170890821855,0.0023456665944325194,0.0021871673314446858,0.002039194609119476,0.0019010682105678014,0.0017721498999596825,0.0016518410427665358,0.0015395803373692378,0.0014348416556569366,0.0013371319898809403,0.0012459895027430435,0.0011609816774783347,0.00108170356453,0.001007776121300023,0.0009388446413879975,0.0008745772696943969],\"type\":\"scatter\"},{\"mode\":\"lines\",\"name\":\"death\",\"x\":[0,1,2,3,4,5,6,7,8,9,10,11,12,13,14,15,16,17,18,19,20,21,22,23,24,25,26,27,28,29,30,31,32,33,34,35,36,37,38,39,40,41,42,43,44,45,46,47,48,49,50,51,52,53,54,55,56,57,58,59,60,61,62,63,64,65,66,67,68,69,70,71,72,73,74,75,76,77,78,79,80,81,82,83,84,85,86,87,88,89,90,91,92,93,94,95,96,97,98,99,100],\"y\":[0.0,0.018000000000000002,0.038375000000000006,0.06083000000000001,0.08506831250000002,0.11079919625000002,0.13774341179375002,0.16563711750725002,0.19423445037494566,0.22330907368942213,0.25265492221612684,0.2820863324565326,0.3114377100577632,0.3405628569632147,0.369334056574417,0.39764099515554197,0.4253895812490389,0.4525007113876592,0.47890901938401126,0.5045616375338043,0.5294169908310988,0.5534436394684727,0.5766191802355282,0.5989292137296798,0.6203663813818854,0.6409294740337607,0.6606226120622984,0.6794544957353298,0.6974377235129539,0.7145881753196619,0.7309244573428523,0.7464674046198441,0.7612396375195815,0.7752651681760736,0.7885690529630667,0.8011770871930688,0.813115538362155,0.8244109144317321,0.8350897638290949,0.8451785040518105,0.8547032759701984,0.8636898211323846,0.8721633795837518,0.8801486059142222,0.8876695014406243,0.8947493606159568,0.9014107299317439,0.9076753777433292,0.9135642736006474,0.9190975758087593,0.9242946260734174,0.9291739502074826,0.9337532639845442,0.9380494833271089,0.9420787381087435,0.9458563889331286,0.9493970463286874,0.9527145918658375,0.9558222007655343,0.9587323656231603,0.961456920921479,0.9640070680507922,0.9663934005940816,0.9686259296702049,0.9707141091595449,0.9726668606642744,0.9744925980799117,0.976199251676445,0.9777942916062817,0.9792847507728937,0.9806772470085328,0.9819780045220089,0.9831928745884444,0.9843273554623453,0.9853866115034154,0.9863754915114409,0.9872985462724259,0.9881600453230839,0.9889639929449004,0.9897141434023725,0.9904140154427921,0.9910669060771559,0.9916759036635155,0.9922439003154008,0.9927736036589057,0.9932675479626789,0.9937281046654396,0.9941574923257972,0.9945577860191203,0.9949309262059994,0.9952787270965218,0.9956028845341278,0.9959049834222924,0.9961865047166633,0.9964488320046283,0.9966932576935769,0.9969209888283828,0.997133152557876,0.9973308012692973,0.9975149174089513,0.9976864180064966],\"type\":\"scatter\"}],                        {\"template\":{\"data\":{\"histogram2dcontour\":[{\"type\":\"histogram2dcontour\",\"colorbar\":{\"outlinewidth\":0,\"ticks\":\"\"},\"colorscale\":[[0.0,\"#0d0887\"],[0.1111111111111111,\"#46039f\"],[0.2222222222222222,\"#7201a8\"],[0.3333333333333333,\"#9c179e\"],[0.4444444444444444,\"#bd3786\"],[0.5555555555555556,\"#d8576b\"],[0.6666666666666666,\"#ed7953\"],[0.7777777777777778,\"#fb9f3a\"],[0.8888888888888888,\"#fdca26\"],[1.0,\"#f0f921\"]]}],\"choropleth\":[{\"type\":\"choropleth\",\"colorbar\":{\"outlinewidth\":0,\"ticks\":\"\"}}],\"histogram2d\":[{\"type\":\"histogram2d\",\"colorbar\":{\"outlinewidth\":0,\"ticks\":\"\"},\"colorscale\":[[0.0,\"#0d0887\"],[0.1111111111111111,\"#46039f\"],[0.2222222222222222,\"#7201a8\"],[0.3333333333333333,\"#9c179e\"],[0.4444444444444444,\"#bd3786\"],[0.5555555555555556,\"#d8576b\"],[0.6666666666666666,\"#ed7953\"],[0.7777777777777778,\"#fb9f3a\"],[0.8888888888888888,\"#fdca26\"],[1.0,\"#f0f921\"]]}],\"heatmap\":[{\"type\":\"heatmap\",\"colorbar\":{\"outlinewidth\":0,\"ticks\":\"\"},\"colorscale\":[[0.0,\"#0d0887\"],[0.1111111111111111,\"#46039f\"],[0.2222222222222222,\"#7201a8\"],[0.3333333333333333,\"#9c179e\"],[0.4444444444444444,\"#bd3786\"],[0.5555555555555556,\"#d8576b\"],[0.6666666666666666,\"#ed7953\"],[0.7777777777777778,\"#fb9f3a\"],[0.8888888888888888,\"#fdca26\"],[1.0,\"#f0f921\"]]}],\"heatmapgl\":[{\"type\":\"heatmapgl\",\"colorbar\":{\"outlinewidth\":0,\"ticks\":\"\"},\"colorscale\":[[0.0,\"#0d0887\"],[0.1111111111111111,\"#46039f\"],[0.2222222222222222,\"#7201a8\"],[0.3333333333333333,\"#9c179e\"],[0.4444444444444444,\"#bd3786\"],[0.5555555555555556,\"#d8576b\"],[0.6666666666666666,\"#ed7953\"],[0.7777777777777778,\"#fb9f3a\"],[0.8888888888888888,\"#fdca26\"],[1.0,\"#f0f921\"]]}],\"contourcarpet\":[{\"type\":\"contourcarpet\",\"colorbar\":{\"outlinewidth\":0,\"ticks\":\"\"}}],\"contour\":[{\"type\":\"contour\",\"colorbar\":{\"outlinewidth\":0,\"ticks\":\"\"},\"colorscale\":[[0.0,\"#0d0887\"],[0.1111111111111111,\"#46039f\"],[0.2222222222222222,\"#7201a8\"],[0.3333333333333333,\"#9c179e\"],[0.4444444444444444,\"#bd3786\"],[0.5555555555555556,\"#d8576b\"],[0.6666666666666666,\"#ed7953\"],[0.7777777777777778,\"#fb9f3a\"],[0.8888888888888888,\"#fdca26\"],[1.0,\"#f0f921\"]]}],\"surface\":[{\"type\":\"surface\",\"colorbar\":{\"outlinewidth\":0,\"ticks\":\"\"},\"colorscale\":[[0.0,\"#0d0887\"],[0.1111111111111111,\"#46039f\"],[0.2222222222222222,\"#7201a8\"],[0.3333333333333333,\"#9c179e\"],[0.4444444444444444,\"#bd3786\"],[0.5555555555555556,\"#d8576b\"],[0.6666666666666666,\"#ed7953\"],[0.7777777777777778,\"#fb9f3a\"],[0.8888888888888888,\"#fdca26\"],[1.0,\"#f0f921\"]]}],\"mesh3d\":[{\"type\":\"mesh3d\",\"colorbar\":{\"outlinewidth\":0,\"ticks\":\"\"}}],\"scatter\":[{\"fillpattern\":{\"fillmode\":\"overlay\",\"size\":10,\"solidity\":0.2},\"type\":\"scatter\"}],\"parcoords\":[{\"type\":\"parcoords\",\"line\":{\"colorbar\":{\"outlinewidth\":0,\"ticks\":\"\"}}}],\"scatterpolargl\":[{\"type\":\"scatterpolargl\",\"marker\":{\"colorbar\":{\"outlinewidth\":0,\"ticks\":\"\"}}}],\"bar\":[{\"error_x\":{\"color\":\"#2a3f5f\"},\"error_y\":{\"color\":\"#2a3f5f\"},\"marker\":{\"line\":{\"color\":\"#E5ECF6\",\"width\":0.5},\"pattern\":{\"fillmode\":\"overlay\",\"size\":10,\"solidity\":0.2}},\"type\":\"bar\"}],\"scattergeo\":[{\"type\":\"scattergeo\",\"marker\":{\"colorbar\":{\"outlinewidth\":0,\"ticks\":\"\"}}}],\"scatterpolar\":[{\"type\":\"scatterpolar\",\"marker\":{\"colorbar\":{\"outlinewidth\":0,\"ticks\":\"\"}}}],\"histogram\":[{\"marker\":{\"pattern\":{\"fillmode\":\"overlay\",\"size\":10,\"solidity\":0.2}},\"type\":\"histogram\"}],\"scattergl\":[{\"type\":\"scattergl\",\"marker\":{\"colorbar\":{\"outlinewidth\":0,\"ticks\":\"\"}}}],\"scatter3d\":[{\"type\":\"scatter3d\",\"line\":{\"colorbar\":{\"outlinewidth\":0,\"ticks\":\"\"}},\"marker\":{\"colorbar\":{\"outlinewidth\":0,\"ticks\":\"\"}}}],\"scattermapbox\":[{\"type\":\"scattermapbox\",\"marker\":{\"colorbar\":{\"outlinewidth\":0,\"ticks\":\"\"}}}],\"scatterternary\":[{\"type\":\"scatterternary\",\"marker\":{\"colorbar\":{\"outlinewidth\":0,\"ticks\":\"\"}}}],\"scattercarpet\":[{\"type\":\"scattercarpet\",\"marker\":{\"colorbar\":{\"outlinewidth\":0,\"ticks\":\"\"}}}],\"carpet\":[{\"aaxis\":{\"endlinecolor\":\"#2a3f5f\",\"gridcolor\":\"white\",\"linecolor\":\"white\",\"minorgridcolor\":\"white\",\"startlinecolor\":\"#2a3f5f\"},\"baxis\":{\"endlinecolor\":\"#2a3f5f\",\"gridcolor\":\"white\",\"linecolor\":\"white\",\"minorgridcolor\":\"white\",\"startlinecolor\":\"#2a3f5f\"},\"type\":\"carpet\"}],\"table\":[{\"cells\":{\"fill\":{\"color\":\"#EBF0F8\"},\"line\":{\"color\":\"white\"}},\"header\":{\"fill\":{\"color\":\"#C8D4E3\"},\"line\":{\"color\":\"white\"}},\"type\":\"table\"}],\"barpolar\":[{\"marker\":{\"line\":{\"color\":\"#E5ECF6\",\"width\":0.5},\"pattern\":{\"fillmode\":\"overlay\",\"size\":10,\"solidity\":0.2}},\"type\":\"barpolar\"}],\"pie\":[{\"automargin\":true,\"type\":\"pie\"}]},\"layout\":{\"autotypenumbers\":\"strict\",\"colorway\":[\"#636efa\",\"#EF553B\",\"#00cc96\",\"#ab63fa\",\"#FFA15A\",\"#19d3f3\",\"#FF6692\",\"#B6E880\",\"#FF97FF\",\"#FECB52\"],\"font\":{\"color\":\"#2a3f5f\"},\"hovermode\":\"closest\",\"hoverlabel\":{\"align\":\"left\"},\"paper_bgcolor\":\"white\",\"plot_bgcolor\":\"#E5ECF6\",\"polar\":{\"bgcolor\":\"#E5ECF6\",\"angularaxis\":{\"gridcolor\":\"white\",\"linecolor\":\"white\",\"ticks\":\"\"},\"radialaxis\":{\"gridcolor\":\"white\",\"linecolor\":\"white\",\"ticks\":\"\"}},\"ternary\":{\"bgcolor\":\"#E5ECF6\",\"aaxis\":{\"gridcolor\":\"white\",\"linecolor\":\"white\",\"ticks\":\"\"},\"baxis\":{\"gridcolor\":\"white\",\"linecolor\":\"white\",\"ticks\":\"\"},\"caxis\":{\"gridcolor\":\"white\",\"linecolor\":\"white\",\"ticks\":\"\"}},\"coloraxis\":{\"colorbar\":{\"outlinewidth\":0,\"ticks\":\"\"}},\"colorscale\":{\"sequential\":[[0.0,\"#0d0887\"],[0.1111111111111111,\"#46039f\"],[0.2222222222222222,\"#7201a8\"],[0.3333333333333333,\"#9c179e\"],[0.4444444444444444,\"#bd3786\"],[0.5555555555555556,\"#d8576b\"],[0.6666666666666666,\"#ed7953\"],[0.7777777777777778,\"#fb9f3a\"],[0.8888888888888888,\"#fdca26\"],[1.0,\"#f0f921\"]],\"sequentialminus\":[[0.0,\"#0d0887\"],[0.1111111111111111,\"#46039f\"],[0.2222222222222222,\"#7201a8\"],[0.3333333333333333,\"#9c179e\"],[0.4444444444444444,\"#bd3786\"],[0.5555555555555556,\"#d8576b\"],[0.6666666666666666,\"#ed7953\"],[0.7777777777777778,\"#fb9f3a\"],[0.8888888888888888,\"#fdca26\"],[1.0,\"#f0f921\"]],\"diverging\":[[0,\"#8e0152\"],[0.1,\"#c51b7d\"],[0.2,\"#de77ae\"],[0.3,\"#f1b6da\"],[0.4,\"#fde0ef\"],[0.5,\"#f7f7f7\"],[0.6,\"#e6f5d0\"],[0.7,\"#b8e186\"],[0.8,\"#7fbc41\"],[0.9,\"#4d9221\"],[1,\"#276419\"]]},\"xaxis\":{\"gridcolor\":\"white\",\"linecolor\":\"white\",\"ticks\":\"\",\"title\":{\"standoff\":15},\"zerolinecolor\":\"white\",\"automargin\":true,\"zerolinewidth\":2},\"yaxis\":{\"gridcolor\":\"white\",\"linecolor\":\"white\",\"ticks\":\"\",\"title\":{\"standoff\":15},\"zerolinecolor\":\"white\",\"automargin\":true,\"zerolinewidth\":2},\"scene\":{\"xaxis\":{\"backgroundcolor\":\"#E5ECF6\",\"gridcolor\":\"white\",\"linecolor\":\"white\",\"showbackground\":true,\"ticks\":\"\",\"zerolinecolor\":\"white\",\"gridwidth\":2},\"yaxis\":{\"backgroundcolor\":\"#E5ECF6\",\"gridcolor\":\"white\",\"linecolor\":\"white\",\"showbackground\":true,\"ticks\":\"\",\"zerolinecolor\":\"white\",\"gridwidth\":2},\"zaxis\":{\"backgroundcolor\":\"#E5ECF6\",\"gridcolor\":\"white\",\"linecolor\":\"white\",\"showbackground\":true,\"ticks\":\"\",\"zerolinecolor\":\"white\",\"gridwidth\":2}},\"shapedefaults\":{\"line\":{\"color\":\"#2a3f5f\"}},\"annotationdefaults\":{\"arrowcolor\":\"#2a3f5f\",\"arrowhead\":0,\"arrowwidth\":1},\"geo\":{\"bgcolor\":\"white\",\"landcolor\":\"#E5ECF6\",\"subunitcolor\":\"white\",\"showland\":true,\"showlakes\":true,\"lakecolor\":\"white\"},\"title\":{\"x\":0.05},\"mapbox\":{\"style\":\"light\"}}},\"title\":{\"text\":\"Infection Game: Effects of AIDS on a population over time\"},\"xaxis\":{\"title\":{\"text\":\"Time\"}},\"yaxis\":{\"title\":{\"text\":\"Population Percentage\"}},\"height\":800},                        {\"responsive\": true}                    ).then(function(){\n",
              "                            \n",
              "var gd = document.getElementById('b32e3cd5-f0e0-4942-bc81-a660ab5df34f');\n",
              "var x = new MutationObserver(function (mutations, observer) {{\n",
              "        var display = window.getComputedStyle(gd).display;\n",
              "        if (!display || display === 'none') {{\n",
              "            console.log([gd, 'removed!']);\n",
              "            Plotly.purge(gd);\n",
              "            observer.disconnect();\n",
              "        }}\n",
              "}});\n",
              "\n",
              "// Listen for the removal of the full notebook cells\n",
              "var notebookContainer = gd.closest('#notebook-container');\n",
              "if (notebookContainer) {{\n",
              "    x.observe(notebookContainer, {childList: true});\n",
              "}}\n",
              "\n",
              "// Listen for the clearing of the current output cell\n",
              "var outputEl = gd.closest('.output');\n",
              "if (outputEl) {{\n",
              "    x.observe(outputEl, {childList: true});\n",
              "}}\n",
              "\n",
              "                        })                };                            </script>        </div>\n",
              "</body>\n",
              "</html>"
            ]
          },
          "metadata": {}
        }
      ]
    },
    {
      "cell_type": "markdown",
      "metadata": {
        "heading_collapsed": true,
        "id": "qecJVrs70G5Z"
      },
      "source": [
        "#### Matrix-Matrix Products"
      ]
    },
    {
      "cell_type": "markdown",
      "metadata": {
        "hidden": true,
        "id": "1M7HSuuh0G5Z"
      },
      "source": [
        "<img src=\"https://github.com/aeged/numerical-linear-algebra/blob/master/nbs/images/shop.png?raw=1\" alt=\"floating point\" style=\"width: 100%\"/>(Source: [Several Simple Real-world Applications of Linear Algebra Tools](https://www.mff.cuni.cz/veda/konference/wds/proc/pdf06/WDS06_106_m8_Ulrychova.pdf))"
      ]
    },
    {
      "cell_type": "markdown",
      "metadata": {
        "heading_collapsed": true,
        "id": "Icw507K90G5Z"
      },
      "source": [
        "#### Answer"
      ]
    },
    {
      "cell_type": "code",
      "execution_count": null,
      "metadata": {
        "hidden": true,
        "id": "OUVJeZSB0G5Z",
        "outputId": "562e59dc-e330-44cb-9489-1836ba3d6d95"
      },
      "outputs": [
        {
          "data": {
            "text/plain": [
              "array([[ 50. ,  49. ],\n",
              "       [ 58.5,  61. ],\n",
              "       [ 43.5,  43.5]])"
            ]
          },
          "execution_count": 23,
          "metadata": {},
          "output_type": "execute_result"
        }
      ],
      "source": [
        "#Exercise: Use Numpy to compute the answer to the above\n"
      ]
    },
    {
      "cell_type": "markdown",
      "metadata": {
        "heading_collapsed": true,
        "id": "BSmwav3h0G5Z"
      },
      "source": [
        "#### Image Data"
      ]
    },
    {
      "cell_type": "markdown",
      "metadata": {
        "hidden": true,
        "id": "EuMRdmXq0G5Z"
      },
      "source": [
        "Images can be represented by matrices.\n",
        "\n",
        "<img src=\"https://github.com/aeged/numerical-linear-algebra/blob/master/nbs/images/digit.gif?raw=1\" alt=\"digit\" style=\"width: 55%\"/>\n",
        "  (Source: [Adam Geitgey\n",
        "](https://medium.com/@ageitgey/machine-learning-is-fun-part-3-deep-learning-and-convolutional-neural-networks-f40359318721))\n"
      ]
    },
    {
      "cell_type": "markdown",
      "metadata": {
        "heading_collapsed": true,
        "id": "M3yAfncg0G5a"
      },
      "source": [
        "#### Convolution"
      ]
    },
    {
      "cell_type": "markdown",
      "metadata": {
        "hidden": true,
        "id": "KOfEKgyR0G5a"
      },
      "source": [
        "*Convolutions* are the heart of convolutional neural networks (CNNs), a type of deep learning, responsible for the huge advances in image recognitionin the last few years.  They are now increasingly being used for speech as well, such as [Facebook AI's results](https://code.facebook.com/posts/1978007565818999/a-novel-approach-to-neural-machine-translation/) for speech translation which are 9x faster than RNNs (the current most popular approach for speech translation).\n",
        "\n",
        "Computers are now more accurate than people at classifying images.\n",
        "\n",
        "<img src=\"https://github.com/aeged/numerical-linear-algebra/blob/master/nbs/images/sportspredict.jpeg?raw=1\" alt=\"ImageNet\" style=\"width: 80%\"/>\n",
        "  (Source: [Andrej Karpathy](http://karpathy.github.io/2014/07/03/feature-learning-escapades/))\n",
        "\n",
        "<img src=\"https://github.com/aeged/numerical-linear-algebra/blob/master/nbs/images/InsideImagenet.png?raw=1\" alt=\"ImageNet\" style=\"width: 80%\"/>\n",
        "  (Source: [Nvidia](https://blogs.nvidia.com/blog/2014/09/07/imagenet/))\n",
        "\n",
        "You can think of a convolution as a special kind of matrix product\n",
        "\n",
        "The 3 images below are all from an excellent blog post written by a fast.ai student on [CNNs from Different Viewpoints](https://medium.com/impactai/cnns-from-different-viewpoints-fab7f52d159c):\n",
        "\n",
        "A convolution applies a filter to each section of an image:\n",
        "<img src=\"https://github.com/aeged/numerical-linear-algebra/blob/master/nbs/images/cnn1.png?raw=1\" alt=\"CNNs\" style=\"width: 40%\"/>\n",
        "\n",
        "Neural Network Viewpoint:\n",
        "<img src=\"https://github.com/aeged/numerical-linear-algebra/blob/master/nbs/images/cnn2.png?raw=1\" alt=\"CNNs\" style=\"width: 40%\"/>\n",
        "\n",
        "Matrix Multiplication Viewpoint:\n",
        "<img src=\"https://github.com/aeged/numerical-linear-algebra/blob/master/nbs/images/cnn3.png?raw=1\" alt=\"CNNs\" style=\"width: 80%\"/>\n",
        "\n",
        "Let's see how convolutions can be used for *edge detection* in [this notebook](convolution-intro.ipynb)(originally from the [fast.ai Deep Learning Course](http://course.fast.ai/))"
      ]
    },
    {
      "cell_type": "markdown",
      "metadata": {
        "heading_collapsed": true,
        "id": "V_0Mczjm0G5a"
      },
      "source": [
        "### Matrix Decompositions"
      ]
    },
    {
      "cell_type": "markdown",
      "metadata": {
        "hidden": true,
        "id": "8E2wT0vz0G5a"
      },
      "source": [
        "We will be talking about Matrix Decompositions every day of this course, and will cover the below examples in future lessons:"
      ]
    },
    {
      "cell_type": "markdown",
      "metadata": {
        "hidden": true,
        "id": "T1w_DBgO0G5a"
      },
      "source": [
        "- **Topic Modeling** (NMF and SVD.  SVD uses QR)  A group of documents can be represented by a term-document matrix\n",
        "<img src=\"https://github.com/aeged/numerical-linear-algebra/blob/master/nbs/images/document_term.png?raw=1\" alt=\"term-document matrix\" style=\"width: 70%\"/>\n",
        "  (source: [Introduction to Information Retrieval](http://player.slideplayer.com/15/4528582/#))\n",
        "<img src=\"https://github.com/aeged/numerical-linear-algebra/blob/master/nbs/images/nmf_doc.png?raw=1\" alt=\"NMF on documents\" style=\"width: 70%\"/>\n",
        "  (source: [NMF Tutorial](http://perso.telecom-paristech.fr/~essid/teach/NMF_tutorial_ICME-2014.pdf))"
      ]
    },
    {
      "cell_type": "markdown",
      "metadata": {
        "hidden": true,
        "id": "9a0Y7jwK0G5a"
      },
      "source": [
        "- **Background removal** (robust PCA, which uses truncated SVD)\n",
        "![background removal](https://github.com/aeged/numerical-linear-algebra/blob/master/nbs/images/surveillance3.png?raw=1)"
      ]
    },
    {
      "cell_type": "markdown",
      "metadata": {
        "hidden": true,
        "id": "0yaJGr850G5a"
      },
      "source": [
        "- **Google's PageRank Algorithm** (eigen decomposition)\n",
        "\n",
        "<img src=\"https://github.com/aeged/numerical-linear-algebra/blob/master/nbs/images/page_rank_graph.png?raw=1\" alt=\"PageRank\" style=\"width: 70%\"/>\n",
        "  (source: [What is in PageRank?](http://computationalculture.net/article/what_is_in_pagerank))"
      ]
    },
    {
      "cell_type": "markdown",
      "metadata": {
        "hidden": true,
        "id": "43adFiF00G5a"
      },
      "source": [
        "- List of other decompositions and some applications [matrix factorization jungle](https://sites.google.com/site/igorcarron2/matrixfactorizations)"
      ]
    },
    {
      "cell_type": "markdown",
      "metadata": {
        "id": "wohXjsn70G5a"
      },
      "source": [
        "## Accuracy"
      ]
    },
    {
      "cell_type": "markdown",
      "metadata": {
        "id": "vXBPU6XO0G5a"
      },
      "source": [
        "### Floating Point Arithmetic"
      ]
    },
    {
      "cell_type": "markdown",
      "metadata": {
        "id": "CVXubN2K0G5a"
      },
      "source": [
        "To understand accuracy, we first need to look at **how** computers (which are finite and discrete) store numbers (which are infinite and continuous)"
      ]
    },
    {
      "cell_type": "markdown",
      "metadata": {
        "id": "wCL4dBdT0G5a"
      },
      "source": [
        "#### Exercise"
      ]
    },
    {
      "cell_type": "markdown",
      "metadata": {
        "id": "n82SjMKn0G5a"
      },
      "source": [
        "Take a moment to look at the function $f$ below.  Before you try running it, write on paper what the output would be of $x_1 = f(\\frac{1}{10})$.  Now, (still on paper) plug that back into $f$ and calculate $x_2 = f(x_1)$.  Keep going for 10 iterations.\n",
        "\n",
        "This example is taken from page 107 of *Numerical Methods*, by Greenbaum and Chartier."
      ]
    },
    {
      "cell_type": "code",
      "execution_count": null,
      "metadata": {
        "collapsed": true,
        "id": "oytMnJ3B0G5a"
      },
      "outputs": [],
      "source": [
        "def f(x):\n",
        "    if x <= 1/2:\n",
        "        return 2 * x\n",
        "    if x > 1/2:\n",
        "        return 2*x - 1"
      ]
    },
    {
      "cell_type": "markdown",
      "metadata": {
        "id": "RaCpPnom0G5a"
      },
      "source": [
        "Only after you've written down what you think the answer should be, run the code below:"
      ]
    },
    {
      "cell_type": "code",
      "execution_count": null,
      "metadata": {
        "collapsed": true,
        "id": "TBx57RTI0G5j"
      },
      "outputs": [],
      "source": [
        "x = 1/10\n",
        "for i in range(80):\n",
        "    print(x)\n",
        "    x = f(x)"
      ]
    },
    {
      "cell_type": "markdown",
      "metadata": {
        "id": "N2ElQTXf0G5j"
      },
      "source": [
        "What went wrong?"
      ]
    },
    {
      "cell_type": "markdown",
      "metadata": {
        "id": "ZCvbXdnr0G5j"
      },
      "source": [
        "#### Problem: math is continuous & infinite, but computers are discrete & finite"
      ]
    },
    {
      "cell_type": "markdown",
      "metadata": {
        "id": "_wRBGEGs0G5j"
      },
      "source": [
        "Two Limitations of computer representations of numbers:\n",
        "1. they can't be arbitrarily large or small\n",
        "2. there must be gaps between them\n",
        "\n",
        "The reason we need to care about accuracy, is because computers can't store infinitely accurate numbers.  It's possible to create calculations that give very wrong answers (particularly when repeating an operation many times, since each operation could multiply the error)."
      ]
    },
    {
      "cell_type": "markdown",
      "metadata": {
        "id": "cKOimtzG0G5j"
      },
      "source": [
        "How computers store numbers:\n",
        "\n",
        "<img src=\"https://github.com/aeged/numerical-linear-algebra/blob/master/nbs/images/fpa.png?raw=1\" alt=\"floating point\" style=\"width: 60%\"/>\n",
        "\n",
        "The *mantissa* can also be referred to as the *significand*."
      ]
    },
    {
      "cell_type": "markdown",
      "metadata": {
        "id": "Qd8YT4N90G5j"
      },
      "source": [
        "IEEE Double precision arithmetic:\n",
        "- Numbers can be as large as $1.79 \\times 10^{308}$ and as small as $2.23 \\times 10^{-308}$.\n",
        "- The interval $[1,2]$ is represented by discrete subset:\n",
        "$$1, \\: 1+2^{-52}, \\: 1+2 \\times 2^{-52},\\: 1+3 \\times 2^{-52},\\: \\ldots, 2$$\n",
        "\n",
        "- The interval $[2,4]$ is represented:\n",
        "$$2, \\: 2+2^{-51}, \\: 2+2 \\times 2^{-51},\\: 2+3 \\times 2^{-51},\\: \\ldots, 4$$\n"
      ]
    },
    {
      "cell_type": "markdown",
      "metadata": {
        "id": "beg6Jd5V0G5j"
      },
      "source": [
        "Floats and doubles are not equidistant:\n",
        "\n",
        "<img src=\"https://github.com/aeged/numerical-linear-algebra/blob/master/nbs/images/fltscale-wh.png?raw=1\" alt=\"floating point\" style=\"width: 100%\"/>\n",
        "Source: [What you never wanted to know about floating point but will be forced to find out](http://www.volkerschatz.com/science/float.html)"
      ]
    },
    {
      "cell_type": "markdown",
      "metadata": {
        "id": "D3hCFgaB0G5j"
      },
      "source": [
        "**Machine Epsilon**\n",
        "\n",
        "Half the distance between 1 and the next larger number. This can vary by computer.  IEEE standards for double precision specify $$ \\varepsilon_{machine} = 2^{-53} \\approx 1.11 \\times 10^{-16}$$"
      ]
    },
    {
      "cell_type": "markdown",
      "metadata": {
        "id": "1A4e-16j0G5j"
      },
      "source": [
        "**Two important properties of Floating Point Arithmetic**:\n",
        "\n",
        "- The difference between a real number $x$ and its closest floating point approximation $fl(x)$ is always smaller than $\\varepsilon_{machine}$ in relative terms.  For some $\\varepsilon$, where $\\lvert \\varepsilon \\rvert \\leq \\varepsilon_{machine}$, $$fl(x)=x \\cdot (1 + \\varepsilon)$$\n",
        "\n",
        "- Where * is any operation ($+, -, \\times, \\div$), and $\\circledast$ is its floating point analogue,\n",
        "    $$ x \\circledast y = (x * y)(1 + \\varepsilon)$$\n",
        "for some $\\varepsilon$, where $\\lvert \\varepsilon \\rvert \\leq \\varepsilon_{machine}$\n",
        "That is, every operation of floating point arithmetic is exact up to a relative error of size at most $\\varepsilon_{machine}$"
      ]
    },
    {
      "cell_type": "markdown",
      "metadata": {
        "id": "llXzfVIx0G5j"
      },
      "source": [
        "#### History"
      ]
    },
    {
      "cell_type": "markdown",
      "metadata": {
        "id": "MX9w-xJf0G5j"
      },
      "source": [
        "Floating point arithmetic may seem like a clear choice in hindsight, but there have been many, many ways of storing numbers:\n",
        "- fixed-point arithmetic\n",
        "- logarithmic and semilogarithmic number systems\n",
        "- continued-fractions\n",
        "- rational numbers\n",
        "- possibly infinite strings of rational numbers\n",
        "- level-index number systems\n",
        "- fixed-slash and floating-slash number systems\n",
        "- 2-adic numbers\n",
        "\n",
        "For references, see [Chapter 1](https://perso.ens-lyon.fr/jean-michel.muller/chapitre1.pdf) (which is free) of the [Handbook of Floating-Point Arithmetic](http://www.springer.com/gp/book/9780817647049).  Yes, there is an entire 16 chapter book on floating point!"
      ]
    },
    {
      "cell_type": "markdown",
      "metadata": {
        "id": "qbLUAepj0G5j"
      },
      "source": [
        "Timeline History of Floating Point Arithmetic:\n",
        "- ~1600 BC: Babylonian radix-60 system was earliest floating-point system (Donald Knuth).  Represented the significand of a radix-60 floating-point representation (if ratio of two numbers is a power of 60, represented the same)\n",
        "- 1630 Slide rule.  Manipulate only significands (radix-10)\n",
        "- 1914 Leonardo Torres y Quevedo described an electromechanical implementation of Babbage's Analytical Engine with Floating Point Arithmetic.\n",
        "- 1941 First real, modern implementation.  Konrad Zuse's Z3 computer.  Used radix-2, with 14 bit significand, 7 bit exponents, and 1 sign bit.\n",
        "- 1985 IEEE 754-1985 Standard for Binary Floating-Point Arithmetic released.  Has increased accuracy, reliability, and portability.  [William Kahan](https://people.eecs.berkeley.edu/~wkahan/) played leading role."
      ]
    },
    {
      "cell_type": "markdown",
      "metadata": {
        "id": "gvQGupyI0G5k"
      },
      "source": [
        "\"Many different ways of approximating real numbers on computers have been introduced.. And yet, floating-point arithmetic is **by far the most widely used** way of representing real numbers in modern computers. Simulating an infinite, continuous set (the real numbers) with a finite set (the “machine numbers”) is not a straightforward task: **clever compromises must be found between, speed, accuracy, dynamic range, ease of use and implementation, and memory**. It appears that floating-point arithmetic, with adequately chosen parameters (radix, precision, extremal exponents, etc.), is a very good compromise for most numerical applications.\""
      ]
    },
    {
      "cell_type": "markdown",
      "metadata": {
        "id": "KHGST4-J0G5k"
      },
      "source": [
        "Although a radix value of 2 (binary) seems like the pretty clear winner now for computers, a variety of other radix values have been used at various point:\n",
        "\n",
        "- radix-8 used by early machines PDP-10, Burroughs 570 and 6700\n",
        "- radix-16 IBM 360\n",
        "- radix-10 financial calculations, pocket calculators, Maple\n",
        "- radix-3 Russian SETUN computer (1958).  Benefits: minimizes beta x p (symbols x digits), for a fixed largest representable number beta^p - 1.  Rounding = truncation\n",
        "- radix-2 most common.  Reasons: easy to implement.  Studies have shown (with implicit leading bit) this gives better worst-case or average accuracy than all other radices."
      ]
    },
    {
      "cell_type": "markdown",
      "metadata": {
        "heading_collapsed": true,
        "id": "SO7NC60-0G5k"
      },
      "source": [
        "### Conditioning and Stability"
      ]
    },
    {
      "cell_type": "markdown",
      "metadata": {
        "hidden": true,
        "id": "uDpmwfS10G5k"
      },
      "source": [
        "Since we can not represent numbers exactly on a computer (due to the finiteness of our storage, and the gaps between numbers in floating point architecture), it becomes important to know *how small perturbations in the input to a problem impact the output*.\n",
        "\n",
        "**\"A stable algorithm gives nearly the right answer to nearly the right question.\"** --Trefethen\n",
        "\n",
        "**Conditioning**: perturbation behavior of a mathematical problem (e.g. least squares)\n",
        "\n",
        "**Stability**: perturbation behavior of an algorithm used to solve that problem on a computer (e.g. least squares algorithms, householder, back substitution, gaussian elimination)"
      ]
    },
    {
      "cell_type": "markdown",
      "metadata": {
        "hidden": true,
        "id": "CQBWcR_l0G5k"
      },
      "source": [
        "Example: Eigenvalues of a Matrix"
      ]
    },
    {
      "cell_type": "code",
      "execution_count": null,
      "metadata": {
        "hidden": true,
        "id": "87_0l5L00G5k",
        "outputId": "63886a03-859c-470d-e95b-7a4d0b9ed3dd"
      },
      "outputs": [
        {
          "name": "stdout",
          "output_type": "stream",
          "text": [
            "[[    1.  1000.]\n",
            " [    0.     1.]]\n",
            "[[    1.     1000.   ]\n",
            " [    0.001     1.   ]]\n"
          ]
        }
      ],
      "source": [
        "import scipy.linalg as la\n",
        "\n",
        "A = np.array([[1., 1000], [0, 1]])\n",
        "B = np.array([[1, 1000], [0.001, 1]])\n",
        "\n",
        "print(A)\n",
        "\n",
        "print(B)"
      ]
    },
    {
      "cell_type": "code",
      "execution_count": null,
      "metadata": {
        "collapsed": true,
        "hidden": true,
        "id": "L-r31SnB0G5k"
      },
      "outputs": [],
      "source": [
        "np.set_printoptions(suppress=True, precision=4)"
      ]
    },
    {
      "cell_type": "code",
      "execution_count": null,
      "metadata": {
        "collapsed": true,
        "hidden": true,
        "id": "lEmLMyay0G5k"
      },
      "outputs": [],
      "source": [
        "wA, vrA = la.eig(A)\n",
        "wB, vrB = la.eig(B)\n",
        "\n",
        "wA, wB"
      ]
    },
    {
      "cell_type": "markdown",
      "metadata": {
        "collapsed": true,
        "hidden": true,
        "id": "rSQHBp160G5k"
      },
      "source": [
        "**Reminder: Two properties of Floating Point Arithmetic**\n",
        "\n",
        "- The difference between a real number $x$ and its closest floating point approximation $fl(x)$ is always smaller than $\\varepsilon_{machine}$ in relative terms.\n",
        "\n",
        "- Every operation $+, -, \\times, \\div$ of floating point arithmetic is exact up to a relative error of size at most $\\varepsilon_{machine}$\n",
        "\n",
        "Examples we'll see:\n",
        "- Classical vs Modified Gram-Schmidt accuracy\n",
        "- Gram-Schmidt vs. Householder (2 different ways of computing QR factorization), how orthogonal the answer is\n",
        "- Condition of a system of equations"
      ]
    },
    {
      "cell_type": "markdown",
      "metadata": {
        "heading_collapsed": true,
        "id": "ieOnzYP40G5k"
      },
      "source": [
        "### Approximation accuracy"
      ]
    },
    {
      "cell_type": "markdown",
      "metadata": {
        "hidden": true,
        "id": "lUJm0p850G5k"
      },
      "source": [
        "It's rare that we need to do highly accurate matrix computations at scale. In fact, often we're doing some kind of machine learning, and less accurate approaches can prevent overfitting.\n",
        "\n",
        "If we accept some decrease in accuracy, then we can often increase speed by orders of magnitude (and/or decrease memory use) by using approximate algorithms. These algorithms typically give a correct answer with some probability. By rerunning the algorithm multiple times you can generally increase that probability multiplicatively!\n",
        "\n",
        "**Example**: A **bloom filter** allows searching for set membership with 1% false positives, using <10 bits per element. This often represents reductions in memory use of thousands of times.\n",
        "\n",
        "<img src=\"https://github.com/aeged/numerical-linear-algebra/blob/master/nbs/images/bloom_filter.png?raw=1\" alt=\"Bloom Filters\" style=\"width: 60%\"/>\n",
        "\n",
        "The false positives can be easily handled by having a second (exact) stage check all returned items - for rare items this can be very effective. For instance, many web browsers use a bloom filter to create a set of blocked pages (e.g. pages with viruses), since blocked web pages are only a small fraction of the whole web. A false positive can be handled here by taking anything returned by the bloom filter and checking against a web service with the full exact list.  (See this [bloom filter tutorial](https://llimllib.github.io/bloomfilter-tutorial/) for more details)."
      ]
    },
    {
      "cell_type": "markdown",
      "metadata": {
        "id": "SOlN12vz0G5k"
      },
      "source": [
        "### Expensive Errors"
      ]
    },
    {
      "cell_type": "markdown",
      "metadata": {
        "id": "Sc4nolmO0G5k"
      },
      "source": [
        "*The below examples are from Greenbaum & Chartier.*\n",
        "\n",
        "European Space Agency spent 10 years and $7 billion on the Ariane 5 Rocket.\n",
        "\n",
        "What can happen when you try to fit a 64 bit number into a 16 bit space (integer overflow):"
      ]
    },
    {
      "cell_type": "code",
      "execution_count": null,
      "metadata": {
        "id": "qnkN1gh-0G5k",
        "outputId": "25fa2545-5d52-44dc-a5bb-b65de8ff44a1"
      },
      "outputs": [
        {
          "data": {
            "image/jpeg": "[encoded data removed]",
            "text/html": [
              "\n",
              "        <iframe\n",
              "            width=\"400\"\n",
              "            height=\"300\"\n",
              "            src=\"https://www.youtube.com/embed/PK_yguLapgA\"\n",
              "            frameborder=\"0\"\n",
              "            allowfullscreen\n",
              "        ></iframe>\n",
              "        "
            ],
            "text/plain": [
              "<IPython.lib.display.YouTubeVideo at 0x7fb330414cc0>"
            ]
          },
          "execution_count": 3,
          "metadata": {},
          "output_type": "execute_result"
        }
      ],
      "source": [
        "from IPython.display import YouTubeVideo\n",
        "YouTubeVideo(\"PK_yguLapgA\")"
      ]
    },
    {
      "cell_type": "markdown",
      "metadata": {
        "id": "3ewyY4AP0G5l"
      },
      "source": [
        "Here is a floating point error that cost Intel $475 million:"
      ]
    },
    {
      "cell_type": "markdown",
      "metadata": {
        "id": "RiykGclO0G5l"
      },
      "source": [
        "[1994 NYTimes article about Intel Pentium Error](http://www.nytimes.com/1994/11/24/business/company-news-flaw-undermines-accuracy-of-pentium-chips.html)\n",
        "![article](https://github.com/aeged/numerical-linear-algebra/blob/master/nbs/images/pentium_nytimes.png?raw=1)"
      ]
    },
    {
      "cell_type": "markdown",
      "metadata": {
        "id": "KpQ4SaUJ0G5l"
      },
      "source": [
        "**Resources**: See Lecture 13 of Trefethen & Bau and Chapter 5 of Greenbaum & Chartier for more on Floating Point Arithmetic"
      ]
    },
    {
      "cell_type": "markdown",
      "metadata": {
        "id": "XqIeIkRO0G5l"
      },
      "source": [
        "## Memory Use"
      ]
    },
    {
      "cell_type": "markdown",
      "metadata": {
        "id": "nWu_gaMm0G5l"
      },
      "source": [
        "### Sparse vs Dense"
      ]
    },
    {
      "cell_type": "markdown",
      "metadata": {
        "id": "ZSjLOGXO0G5l"
      },
      "source": [
        "Above we covered how *numbers* are stored, now let's talk about how *matrices* are stored. A key way to save memory (and computation) is not to store all of your matrix. Instead, just store the non-zero elements. This is called **sparse** storage, and it is well suited to sparse matrices, that is, matrices where most elements are zero.\n",
        "\n",
        "<img src=\"https://github.com/aeged/numerical-linear-algebra/blob/master/nbs/images/sparse.png?raw=1\" alt=\"floating point\" style=\"width: 50%\"/>\n",
        "\n",
        "Here is an example of the matrix from a finite element problem, which shows up in engineering (for instance, when modeling the air-flow around a plane). In this example, the non-zero elements are black and the zero elements are white:\n",
        "<img src=\"https://github.com/aeged/numerical-linear-algebra/blob/master/nbs/images/Finite_element_sparse_matrix.png?raw=1\" alt=\"floating point\" style=\"width: 50%\"/>\n",
        "[Source](https://commons.wikimedia.org/w/index.php?curid=2245335)\n",
        "\n",
        "There are also special types of structured matrix, such as diagonal, tri-diagonal, hessenberg, and triangular, which each display particular patterns of sparsity, which can be leveraged to reduce memory and computation.\n",
        "\n",
        "The opposite of a sparse matrix is a **dense** matrix, along with dense storage, which simply refers to a matrix containing mostly non-zeros, in which every element is stored explicitly.  Since sparse matrices are helpful and common, numerical linear algebra focuses on maintaining sparsity through as many operations in a computation as possible."
      ]
    },
    {
      "cell_type": "markdown",
      "metadata": {
        "id": "DlTTwucZ0G5l"
      },
      "source": [
        "## Speed"
      ]
    },
    {
      "cell_type": "markdown",
      "metadata": {
        "id": "Dlf9TarX0G5l"
      },
      "source": [
        "Speed differences come from a number of areas, particularly:\n",
        "- Computational complexity\n",
        "- Vectorization\n",
        "- Scaling to multiple cores and nodes\n",
        "- Locality"
      ]
    },
    {
      "cell_type": "markdown",
      "metadata": {
        "id": "VaKvhT8_0G5l"
      },
      "source": [
        "### Computational complexity"
      ]
    },
    {
      "cell_type": "markdown",
      "metadata": {
        "id": "vZuOYpV30G5l"
      },
      "source": [
        "If you are unfamiliar with computational complexity and $\\mathcal{O}$ notation, you can read about it [on Interview Cake](https://www.interviewcake.com/article/java/big-o-notation-time-and-space-complexity) and [practice on Codecademy](https://www.codecademy.com/courses/big-o/0/3). Algorithms are generally expressed in terms of computation complexity with respect to the number of rows and number of columns in the matrix. E.g. you may find an algorithm described as $\\mathcal{O(n^2m)}$."
      ]
    },
    {
      "cell_type": "markdown",
      "metadata": {
        "heading_collapsed": true,
        "id": "sUTRvefz0G5l"
      },
      "source": [
        "### Vectorization"
      ]
    },
    {
      "cell_type": "markdown",
      "metadata": {
        "hidden": true,
        "id": "zttM3Ntu0G5l"
      },
      "source": [
        "Modern CPUs and GPUs can apply an operation to multiple elements at once on a single core. For instance, take the exponent of 4 floats in a vector in a single step. This is called SIMD. You will not be explicitly writing SIMD code (which tends to require assembly language or special C \"intrinsics\"), but instead will use vectorized operations in libraries like numpy, which in turn rely on specially tuned vectorized low level linear algebra APIs (in particular, BLAS, and LAPACK)."
      ]
    },
    {
      "cell_type": "markdown",
      "metadata": {
        "heading_collapsed": true,
        "hidden": true,
        "id": "377-K0o00G5l"
      },
      "source": [
        "#### Matrix Computation Packages: BLAS and LAPACK"
      ]
    },
    {
      "cell_type": "markdown",
      "metadata": {
        "hidden": true,
        "id": "HKRqfFOv0G5l"
      },
      "source": [
        "[BLAS (Basic Linear Algebra Subprograms)](http://www.netlib.org/blas/): specification for low-level matrix and vector arithmetic operations. These are the standard building blocks for performing basic vector and matrix operations.  BLAS originated as a Fortran library in 1979.  Examples of BLAS libraries include: AMD Core Math Library (ACML), ATLAS, Intel Math Kernel Library (MKL), and OpenBLAS.\n",
        "\n",
        "[LAPACK](http://www.netlib.org/lapack/) is written in Fortran, provides routines for solving systems of linear equations, eigenvalue problems, and singular value problems.  Matrix factorizations (LU, Cholesky, QR, SVD, Schur).  Dense and banded matrices are handled, but not general sparse matrices.  Real and complex, single and double precision.\n",
        "\n",
        "1970s and 1980s: EISPACK (eigenvalue routines) and LINPACK (linear equations and linear least-squares routines) libraries\n",
        "\n",
        "**LAPACK original goal**: make LINAPCK and EISPACK run efficiently on shared-memory vector and parallel processors and exploit cache on modern cache-based architectures (initially released in 1992).  EISPACK and LINPACK ignore multi-layered memory hierarchies and spend too much time moving data around.\n",
        "\n",
        "LAPACK uses highly optimized block operations implementations (which much be implemented on each machine) LAPACK written so as much of the computation as possible is performed by BLAS."
      ]
    },
    {
      "cell_type": "markdown",
      "metadata": {
        "heading_collapsed": true,
        "id": "BPQEtZAm0G5l"
      },
      "source": [
        "### Locality"
      ]
    },
    {
      "cell_type": "markdown",
      "metadata": {
        "hidden": true,
        "id": "SaKnU5i90G5l"
      },
      "source": [
        "Using slower ways to access data (e.g. over the internet) can be up to a billion times slower than faster ways (e.g. from a register). But there's much less fast storage than slow storage. So once we have data in fast storage, we want to do any computation required at that time, rather than having to load it multiple times each time we need it. In addition, for most types of storage its much faster to access data items that are stored next to each other, so we should try to always use any data stored nearby that we know we'll need soon. These two issues are known as locality."
      ]
    },
    {
      "cell_type": "markdown",
      "metadata": {
        "heading_collapsed": true,
        "hidden": true,
        "id": "iJfhXJXW0G5l"
      },
      "source": [
        "#### Speed of different types of memory"
      ]
    },
    {
      "cell_type": "markdown",
      "metadata": {
        "hidden": true,
        "id": "LUZhQNfb0G5l"
      },
      "source": [
        "Here are some *numbers everyone should know* (from the legendary [Jeff Dean](http://static.googleusercontent.com/media/research.google.com/en/us/people/jeff/stanford-295-talk.pdf)):\n",
        "- L1 cache reference 0.5 ns\n",
        "- L2 cache reference 7 ns\n",
        "- Main memory reference/RAM 100 ns\n",
        "- Send 2K bytes over 1 Gbps network 20,000 ns\n",
        "- Read 1 MB sequentially from memory 250,000 ns\n",
        "- Round trip within same datacenter 500,000 ns\n",
        "- Disk seek 10,000,000 ns\n",
        "- Read 1 MB sequentially from network 10,000,000 ns\n",
        "- Read 1 MB sequentially from disk 30,000,000 ns\n",
        "- Send packet CA->Netherlands->CA 150,000,000 ns\n",
        "\n",
        "And here is an updated, interactive [version](https://people.eecs.berkeley.edu/~rcs/research/interactive_latency.html), which includes a timeline of how these numbers have changed.\n",
        "\n",
        "**Key take-away**: Each successive memory type is (at least) an order of magnitude worse than the one before it.  Disk seeks are **very slow**."
      ]
    },
    {
      "cell_type": "markdown",
      "metadata": {
        "hidden": true,
        "id": "cwgbwSej0G5l"
      },
      "source": [
        "This video has a great example of showing several ways you could compute the blur of a photo, with various trade-offs. Don't worry about the C code that appears, just focus on the red and green moving pictures of matrix computation.\n",
        "\n",
        "Although the video is about a new language called Halide, it is a good illustration the issues it raises are universal.  Watch minutes 1-13:"
      ]
    },
    {
      "cell_type": "code",
      "execution_count": null,
      "metadata": {
        "hidden": true,
        "id": "AyX3cFrc0G5l",
        "outputId": "c441a342-d73c-4e71-f375-5f283f873a1f"
      },
      "outputs": [
        {
          "data": {
            "image/jpeg": "[encoded data removed]",
            "text/html": [
              "\n",
              "        <iframe\n",
              "            width=\"400\"\n",
              "            height=\"300\"\n",
              "            src=\"https://www.youtube.com/embed/3uiEyEKji0M\"\n",
              "            frameborder=\"0\"\n",
              "            allowfullscreen\n",
              "        ></iframe>\n",
              "        "
            ],
            "text/plain": [
              "<IPython.lib.display.YouTubeVideo at 0x7f86d4fade48>"
            ]
          },
          "execution_count": 1,
          "metadata": {},
          "output_type": "execute_result"
        }
      ],
      "source": [
        "from IPython.display import YouTubeVideo\n",
        "YouTubeVideo(\"3uiEyEKji0M\")"
      ]
    },
    {
      "cell_type": "markdown",
      "metadata": {
        "hidden": true,
        "id": "Qjj1tbki0G5l"
      },
      "source": [
        "Locality is hard.  Potential trade-offs:\n",
        "- redundant computation to save memory bandwidth\n",
        "- sacrificing parallelism to get better reuse"
      ]
    },
    {
      "cell_type": "markdown",
      "metadata": {
        "heading_collapsed": true,
        "hidden": true,
        "id": "MNnrofoj0G5l"
      },
      "source": [
        "#### Temporaries"
      ]
    },
    {
      "cell_type": "markdown",
      "metadata": {
        "hidden": true,
        "id": "JonpIBFe0G5m"
      },
      "source": [
        "The issue of \"temporaries\" occurs when the result of a calculation is stored in a temporary variable in RAM, and then that variable is loaded to do another calculation on it. This is many orders of magnitude slower than simply keeping the data in cache or registers and doing all necessary computations before storing the final result in RAM. This is particularly an issue for us since numpy generally creates temporaries for every single operation or function it does. E.g. $a=b\\cdot c^2+ln(d)$ will create four temporaries (since there are four operations and functions)."
      ]
    },
    {
      "cell_type": "markdown",
      "metadata": {
        "heading_collapsed": true,
        "id": "jZnawndE0G5m"
      },
      "source": [
        "### Scaling to multiple cores and nodes"
      ]
    },
    {
      "cell_type": "markdown",
      "metadata": {
        "hidden": true,
        "id": "m7lNEaV60G5m"
      },
      "source": [
        "We have a separate section for scalability, but it’s worth noting that this is also important for speed - if we can't scale across all the computing resources we have, we'll be stuck with slower computation."
      ]
    },
    {
      "cell_type": "markdown",
      "metadata": {
        "id": "aSVguvUl0G5m"
      },
      "source": [
        "## Scalability / parallelization"
      ]
    },
    {
      "cell_type": "markdown",
      "metadata": {
        "id": "qbj650-F0G5m"
      },
      "source": [
        "Often we'll find that we have more data than we have memory to handle, or time to compute. In such a case we would like to be able to scale our algorithm across [multiple cores](http://www.makeuseof.com/tag/processor-core-makeuseof-explains-2/) (within one computer) or nodes (i.e. multiple computers on a network). We will not be tackling multi-node scaling in this course, although we will look at scaling across multiple cores (called parallelization). In general, scalable algorithms are those where the input can be broken up into smaller pieces, each of which are handled by a different core/computer, and then are put back together at the end."
      ]
    },
    {
      "cell_type": "code",
      "execution_count": null,
      "metadata": {
        "collapsed": true,
        "id": "RuIgrT5g0G5m"
      },
      "outputs": [],
      "source": []
    }
  ],
  "metadata": {
    "kernelspec": {
      "display_name": "Python 3",
      "language": "python",
      "name": "python3"
    },
    "language_info": {
      "codemirror_mode": {
        "name": "ipython",
        "version": 3
      },
      "file_extension": ".py",
      "mimetype": "text/x-python",
      "name": "python",
      "nbconvert_exporter": "python",
      "pygments_lexer": "ipython3",
      "version": "3.6.1"
    },
    "colab": {
      "provenance": []
    }
  },
  "nbformat": 4,
  "nbformat_minor": 0
}